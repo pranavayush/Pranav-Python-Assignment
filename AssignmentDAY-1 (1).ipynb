{
 "cells": [
  {
   "cell_type": "code",
   "execution_count": 1,
   "id": "c47085dd-270d-4b53-a737-e8ad556bd4fb",
   "metadata": {},
   "outputs": [
    {
     "name": "stdin",
     "output_type": "stream",
     "text": [
      "Enter first number:  12\n",
      "Enter second number:  5\n",
      "Enter third number:  3\n"
     ]
    },
    {
     "name": "stdout",
     "output_type": "stream",
     "text": [
      "The average of the three numbers is: 6.666666666666667\n"
     ]
    }
   ],
   "source": [
    "# Program to find the average of three numbers\n",
    "a = float(input(\"Enter first number: \"))\n",
    "b = float(input(\"Enter second number: \"))\n",
    "c = float(input(\"Enter third number: \"))\n",
    "average = (a + b + c) / 3\n",
    "print(\"The average of the three numbers is:\", average)"
   ]
  },
  {
   "cell_type": "code",
   "execution_count": 3,
   "id": "d63cf92f-6de8-4741-8957-5fa0f8464811",
   "metadata": {},
   "outputs": [
    {
     "name": "stdin",
     "output_type": "stream",
     "text": [
      "Enter marks for subject 1:  12\n",
      "Enter marks for subject 2:  2\n",
      "Enter marks for subject 3:  4\n",
      "Enter marks for subject 4:  5\n",
      "Enter marks for subject 5:  6\n",
      "Enter total marks:  500\n"
     ]
    },
    {
     "name": "stdout",
     "output_type": "stream",
     "text": [
      "The total marks are: 29.0\n",
      "The percentage is: 5.800000000000001 %\n"
     ]
    }
   ],
   "source": [
    "# Program to calculate sum of 5 subjects and find percentage\n",
    "marks = []\n",
    "for i in range(5):\n",
    "    marks.append(float(input(f\"Enter marks for subject {i+1}: \")))\n",
    "total_marks = float(input(\"Enter total marks: \"))\n",
    "sum_marks = sum(marks)\n",
    "percentage = (sum_marks / total_marks) * 100\n",
    "print(\"The total marks are:\", sum_marks)\n",
    "print(\"The percentage is:\", percentage, \"%\")"
   ]
  },
  {
   "cell_type": "code",
   "execution_count": 5,
   "id": "e39d9a33-acde-42f6-8eba-6fefb92883a4",
   "metadata": {},
   "outputs": [
    {
     "name": "stdin",
     "output_type": "stream",
     "text": [
      "Enter marks for subject 1:  12\n",
      "Enter marks for subject 2:  2\n",
      "Enter marks for subject 3:  45\n",
      "Enter marks for subject 4:  23\n",
      "Enter marks for subject 5:  12\n",
      "Enter total marks:  1111\n"
     ]
    },
    {
     "name": "stdout",
     "output_type": "stream",
     "text": [
      "The total marks are: 94.0\n",
      "The percentage is: 8.46084608460846 %\n"
     ]
    }
   ],
   "source": [
    "# Program to calculate sum of 5 subjects and find percentage\n",
    "marks = []\n",
    "for i in range(5):\n",
    "    marks.append(float(input(f\"Enter marks for subject {i+1}: \")))\n",
    "total_marks = float(input(\"Enter total marks: \"))\n",
    "sum_marks = sum(marks)\n",
    "percentage = (sum_marks / total_marks) * 100\n",
    "print(\"The total marks are:\", sum_marks)\n",
    "print(\"The percentage is:\", percentage, \"%\")"
   ]
  },
  {
   "cell_type": "code",
   "execution_count": 7,
   "id": "f0f56780-95fb-428e-aba6-e5a047d4c4c0",
   "metadata": {},
   "outputs": [
    {
     "name": "stdin",
     "output_type": "stream",
     "text": [
      "Enter basic salary:  23\n",
      "Enter HRA:  45\n",
      "Enter DA:  45\n"
     ]
    },
    {
     "name": "stdout",
     "output_type": "stream",
     "text": [
      "The gross salary is: 113.0\n"
     ]
    }
   ],
   "source": [
    "# Program to find gross salary\n",
    "basic_salary = float(input(\"Enter basic salary: \"))\n",
    "hra = float(input(\"Enter HRA: \"))\n",
    "da = float(input(\"Enter DA: \"))\n",
    "gross_salary = basic_salary + hra + da\n",
    "print(\"The gross salary is:\", gross_salary)"
   ]
  },
  {
   "cell_type": "code",
   "execution_count": 9,
   "id": "cd338342-6da2-4fce-b33d-374f88865740",
   "metadata": {},
   "outputs": [
    {
     "name": "stdin",
     "output_type": "stream",
     "text": [
      "Enter the radius of the circle:  23\n"
     ]
    },
    {
     "name": "stdout",
     "output_type": "stream",
     "text": [
      "The area of the circle is: 1661.9025137490005\n"
     ]
    }
   ],
   "source": [
    "# Program to calculate the area of a circle\n",
    "import math\n",
    "radius = float(input(\"Enter the radius of the circle: \"))\n",
    "area = math.pi * radius ** 2\n",
    "print(\"The area of the circle is:\", area)"
   ]
  },
  {
   "cell_type": "code",
   "execution_count": 11,
   "id": "835b9277-e454-46ad-9ea6-98dba1e67375",
   "metadata": {},
   "outputs": [
    {
     "name": "stdin",
     "output_type": "stream",
     "text": [
      "Enter the length of the rectangle:  22\n",
      "Enter the breadth of the rectangle:  22\n"
     ]
    },
    {
     "name": "stdout",
     "output_type": "stream",
     "text": [
      "The area of the rectangle is: 484.0\n"
     ]
    }
   ],
   "source": [
    "# Program to calculate the area of a rectangle\n",
    "length = float(input(\"Enter the length of the rectangle: \"))\n",
    "breadth = float(input(\"Enter the breadth of the rectangle: \"))\n",
    "area = length * breadth\n",
    "print(\"The area of the rectangle is:\", area)"
   ]
  },
  {
   "cell_type": "code",
   "execution_count": 13,
   "id": "5257b6f9-bebe-4e64-901d-2b43c415ab98",
   "metadata": {},
   "outputs": [
    {
     "name": "stdin",
     "output_type": "stream",
     "text": [
      "Enter the side length of the square:  23\n"
     ]
    },
    {
     "name": "stdout",
     "output_type": "stream",
     "text": [
      "The area of the square is: 529.0\n"
     ]
    }
   ],
   "source": [
    "# Program to calculate the area of a square\n",
    "side = float(input(\"Enter the side length of the square: \"))\n",
    "area = side ** 2\n",
    "print(\"The area of the square is:\", area)"
   ]
  },
  {
   "cell_type": "code",
   "execution_count": 15,
   "id": "063766dc-0767-4a52-8798-ff34c61282cb",
   "metadata": {},
   "outputs": [
    {
     "name": "stdin",
     "output_type": "stream",
     "text": [
      "Enter the radius of the circle:  65\n"
     ]
    },
    {
     "name": "stdout",
     "output_type": "stream",
     "text": [
      "The area of the circle is: 13273.228961416877\n",
      "The circumference of the circle is: 408.4070449666731\n"
     ]
    }
   ],
   "source": [
    "# Program to calculate area and circumference of a circle\n",
    "import math\n",
    "radius = float(input(\"Enter the radius of the circle: \"))\n",
    "area = math.pi * radius ** 2\n",
    "circumference = 2 * math.pi * radius\n",
    "print(\"The area of the circle is:\", area)\n",
    "print(\"The circumference of the circle is:\", circumference)"
   ]
  },
  {
   "cell_type": "code",
   "execution_count": 17,
   "id": "ebb7b344-bf27-4bce-8949-78322374d149",
   "metadata": {},
   "outputs": [
    {
     "name": "stdin",
     "output_type": "stream",
     "text": [
      "Enter the first side of the triangle:  12\n",
      "Enter the second side of the triangle:  34\n",
      "Enter the third side of the triangle:  23\n"
     ]
    },
    {
     "name": "stdout",
     "output_type": "stream",
     "text": [
      "The area of the scalene triangle is: 66.80896272207794\n"
     ]
    }
   ],
   "source": [
    "# Program to calculate the area of a scalene triangle\n",
    "import math\n",
    "a = float(input(\"Enter the first side of the triangle: \"))\n",
    "b = float(input(\"Enter the second side of the triangle: \"))\n",
    "c = float(input(\"Enter the third side of the triangle: \"))\n",
    "s = (a + b + c) / 2\n",
    "area = math.sqrt(s * (s - a) * (s - b) * (s - c))\n",
    "print(\"The area of the scalene triangle is:\", area)\n"
   ]
  },
  {
   "cell_type": "code",
   "execution_count": 19,
   "id": "0af67114-5c5f-42ba-b16e-66f6a7075b35",
   "metadata": {},
   "outputs": [
    {
     "name": "stdin",
     "output_type": "stream",
     "text": [
      "Enter the base of the triangle:  1\n",
      "Enter the height of the triangle:  2\n"
     ]
    },
    {
     "name": "stdout",
     "output_type": "stream",
     "text": [
      "The area of the right-angle triangle is: 1.0\n"
     ]
    }
   ],
   "source": [
    "# Program to calculate the area of a right-angle triangle\n",
    "base = float(input(\"Enter the base of the triangle: \"))\n",
    "height = float(input(\"Enter the height of the triangle: \"))\n",
    "area = 0.5 * base * height\n",
    "print(\"The area of the right-angle triangle is:\", area)"
   ]
  },
  {
   "cell_type": "code",
   "execution_count": 21,
   "id": "72aaba04-c450-406e-b5fe-1eb3c24f6a36",
   "metadata": {},
   "outputs": [
    {
     "name": "stdin",
     "output_type": "stream",
     "text": [
      "Enter the first base of the trapezium:  8\n",
      "Enter the second base of the trapezium:  6\n",
      "Enter the height of the trapezium:  5\n"
     ]
    },
    {
     "name": "stdout",
     "output_type": "stream",
     "text": [
      "The area of the trapezium is: 35.0\n"
     ]
    }
   ],
   "source": [
    "# Program to calculate the area of a trapezium\n",
    "base1 = float(input(\"Enter the first base of the trapezium: \"))\n",
    "base2 = float(input(\"Enter the second base of the trapezium: \"))\n",
    "height = float(input(\"Enter the height of the trapezium: \"))\n",
    "area = 0.5 * (base1 + base2) * height\n",
    "print(\"The area of the trapezium is:\", area)"
   ]
  },
  {
   "cell_type": "code",
   "execution_count": null,
   "id": "3684c98a-bd4f-4484-b6da-6e49811c3d47",
   "metadata": {},
   "outputs": [],
   "source": []
  }
 ],
 "metadata": {
  "kernelspec": {
   "display_name": "Python [conda env:base] *",
   "language": "python",
   "name": "conda-base-py"
  },
  "language_info": {
   "codemirror_mode": {
    "name": "ipython",
    "version": 3
   },
   "file_extension": ".py",
   "mimetype": "text/x-python",
   "name": "python",
   "nbconvert_exporter": "python",
   "pygments_lexer": "ipython3",
   "version": "3.12.7"
  }
 },
 "nbformat": 4,
 "nbformat_minor": 5
}
