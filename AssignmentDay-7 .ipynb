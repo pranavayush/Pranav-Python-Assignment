{
 "cells": [
  {
   "cell_type": "code",
   "execution_count": 11,
   "id": "49ea1f32-6d46-4ea7-8646-795dd43f8af1",
   "metadata": {},
   "outputs": [
    {
     "name": "stdout",
     "output_type": "stream",
     "text": [
      "20\n"
     ]
    }
   ],
   "source": [
    "# Global variable\n",
    "x = 10\n",
    "\n",
    "def modify_global():\n",
    "    global x\n",
    "    x = 20  # Modifying the global variable\n",
    "\n",
    "modify_global()\n",
    "print(x)  # Output: 20\n"
   ]
  },
  {
   "cell_type": "code",
   "execution_count": 13,
   "id": "f328d21e-50f1-4a4b-9034-d3f7b46a0865",
   "metadata": {},
   "outputs": [
    {
     "name": "stdout",
     "output_type": "stream",
     "text": [
      "20\n"
     ]
    }
   ],
   "source": [
    "def outer_function():\n",
    "    x = 10  # Local variable in outer function\n",
    "    \n",
    "    def inner_function():\n",
    "        nonlocal x  # Referring to the variable from the outer function\n",
    "        x = 20      # Modifying it\n",
    "        \n",
    "    inner_function()\n",
    "    print(x)  # Output: 20\n",
    "\n",
    "outer_function()\n"
   ]
  },
  {
   "cell_type": "code",
   "execution_count": 15,
   "id": "b796ffd3-8252-4a50-94bd-823694182f7e",
   "metadata": {},
   "outputs": [
    {
     "name": "stdout",
     "output_type": "stream",
     "text": [
      "15\n"
     ]
    }
   ],
   "source": [
    "def sum_natural_numbers(n):\n",
    "    if n == 1:\n",
    "        return 1\n",
    "    else:\n",
    "        return n + sum_natural_numbers(n-1)\n",
    "\n",
    "print(sum_natural_numbers(5))  # Output: 15\n"
   ]
  },
  {
   "cell_type": "code",
   "execution_count": 17,
   "id": "5d3fa7d9-4dbc-49c6-aac6-170d2fa4b6db",
   "metadata": {},
   "outputs": [
    {
     "name": "stdout",
     "output_type": "stream",
     "text": [
      "120\n"
     ]
    }
   ],
   "source": [
    "def factorial(n):\n",
    "    if n == 1 or n == 0:\n",
    "        return 1\n",
    "    else:\n",
    "        return n * factorial(n-1)\n",
    "\n",
    "print(factorial(5))  # Output: 120\n"
   ]
  },
  {
   "cell_type": "code",
   "execution_count": 19,
   "id": "16d702f0-e845-4bfe-9ceb-a0ce6c50f057",
   "metadata": {},
   "outputs": [
    {
     "name": "stdout",
     "output_type": "stream",
     "text": [
      "8\n"
     ]
    }
   ],
   "source": [
    "def fibonacci(n):\n",
    "    if n <= 1:\n",
    "        return n\n",
    "    else:\n",
    "        return fibonacci(n-1) + fibonacci(n-2)\n",
    "\n",
    "print(fibonacci(6))  # Output: 8\n"
   ]
  },
  {
   "cell_type": "code",
   "execution_count": 21,
   "id": "7b826f76-003a-40fa-8bb3-d4730380c8a4",
   "metadata": {},
   "outputs": [
    {
     "name": "stdout",
     "output_type": "stream",
     "text": [
      "Move disk 1 from A to C\n",
      "Move disk 2 from A to B\n",
      "Move disk 1 from C to B\n",
      "Move disk 3 from A to C\n",
      "Move disk 1 from B to A\n",
      "Move disk 2 from B to C\n",
      "Move disk 1 from A to C\n"
     ]
    }
   ],
   "source": [
    "def tower_of_hanoi(n, source, target, auxiliary):\n",
    "    if n == 1:\n",
    "        print(f\"Move disk 1 from {source} to {target}\")\n",
    "    else:\n",
    "        tower_of_hanoi(n-1, source, auxiliary, target)\n",
    "        print(f\"Move disk {n} from {source} to {target}\")\n",
    "        tower_of_hanoi(n-1, auxiliary, target, source)\n",
    "\n",
    "tower_of_hanoi(3, 'A', 'C', 'B')\n"
   ]
  },
  {
   "cell_type": "code",
   "execution_count": 27,
   "id": "be8cef9d-72d7-4f22-bd2c-00b451851453",
   "metadata": {},
   "outputs": [
    {
     "name": "stdout",
     "output_type": "stream",
     "text": [
      "6\n"
     ]
    }
   ],
   "source": [
    "def gcd(a, b):\n",
    "    if b == 0:\n",
    "        return a\n",
    "    else:\n",
    "        return gcd(b, a % b)\n",
    "\n",
    "print(gcd(48, 18))  # Output: 6\n"
   ]
  },
  {
   "cell_type": "code",
   "execution_count": 29,
   "id": "17a776be-861d-44e9-8860-2af87231a202",
   "metadata": {},
   "outputs": [
    {
     "name": "stdout",
     "output_type": "stream",
     "text": [
      "6\n"
     ]
    }
   ],
   "source": [
    "def sum_of_digits(n):\n",
    "    if n == 0:\n",
    "        return 0\n",
    "    else:\n",
    "        return n % 10 + sum_of_digits(n // 10)\n",
    "\n",
    "print(sum_of_digits(123))  # Output: 6\n"
   ]
  },
  {
   "cell_type": "code",
   "execution_count": 31,
   "id": "eb3ef8a6-3256-4c08-bd28-60128facccc3",
   "metadata": {},
   "outputs": [
    {
     "name": "stdout",
     "output_type": "stream",
     "text": [
      "Even\n",
      "Odd\n"
     ]
    }
   ],
   "source": [
    "check_even_odd = lambda x: 'Even' if x % 2 == 0 else 'Odd'\n",
    "\n",
    "print(check_even_odd(4))  # Output: Even\n",
    "print(check_even_odd(5))  # Output: Odd\n"
   ]
  },
  {
   "cell_type": "code",
   "execution_count": 33,
   "id": "de2d1c05-99da-441a-996f-a5c98818be17",
   "metadata": {},
   "outputs": [
    {
     "name": "stdout",
     "output_type": "stream",
     "text": [
      "25\n"
     ]
    }
   ],
   "source": [
    "square = lambda x: x ** 2\n",
    "\n",
    "print(square(5))  # Output: 25\n"
   ]
  },
  {
   "cell_type": "code",
   "execution_count": 35,
   "id": "4403e7fd-783e-4de7-9f60-114f457831af",
   "metadata": {},
   "outputs": [
    {
     "name": "stdout",
     "output_type": "stream",
     "text": [
      "10\n"
     ]
    }
   ],
   "source": [
    "larger = lambda x, y: x if x > y else y\n",
    "\n",
    "print(larger(5, 10))  # Output: 10\n"
   ]
  },
  {
   "cell_type": "code",
   "execution_count": 37,
   "id": "ee9097c3-fde3-4c5a-8e86-bde792eb8a8d",
   "metadata": {},
   "outputs": [
    {
     "name": "stdout",
     "output_type": "stream",
     "text": [
      "[{'name': 'Doe', 'age': 20}, {'name': 'John', 'age': 25}, {'name': 'Jane', 'age': 30}]\n"
     ]
    }
   ],
   "source": [
    "data = [{'name': 'John', 'age': 25}, {'name': 'Jane', 'age': 30}, {'name': 'Doe', 'age': 20}]\n",
    "sorted_data = sorted(data, key=lambda x: x['age'])\n",
    "\n",
    "print(sorted_data)\n"
   ]
  },
  {
   "cell_type": "code",
   "execution_count": 39,
   "id": "727e94e2-7cac-4526-bd9a-33711a03088e",
   "metadata": {},
   "outputs": [
    {
     "name": "stdout",
     "output_type": "stream",
     "text": [
      "2\n"
     ]
    }
   ],
   "source": [
    "get_second_element = lambda x: x[1]\n",
    "\n",
    "print(get_second_element((1, 2, 3)))  # Output: 2\n"
   ]
  },
  {
   "cell_type": "code",
   "execution_count": 41,
   "id": "83006705-c1bc-41e8-9a68-ae1eee74d473",
   "metadata": {},
   "outputs": [
    {
     "name": "stdout",
     "output_type": "stream",
     "text": [
      "['apple', 'ball']\n"
     ]
    }
   ],
   "source": [
    "words = [\"apple\", \"hi\", \"bat\", \"ball\"]\n",
    "filtered_words = filter(lambda x: len(x) >= 4, words)\n",
    "\n",
    "print(list(filtered_words))  # Output: ['apple', 'ball']\n"
   ]
  },
  {
   "cell_type": "code",
   "execution_count": 43,
   "id": "89ba73df-73dd-4f0c-b4b4-088657690e1c",
   "metadata": {},
   "outputs": [
    {
     "name": "stdout",
     "output_type": "stream",
     "text": [
      "[15, 30]\n"
     ]
    }
   ],
   "source": [
    "numbers = [15, 30, 5, 6, 10, 18]\n",
    "divisible_by_3_and_5 = filter(lambda x: x % 3 == 0 and x % 5 == 0, numbers)\n",
    "\n",
    "print(list(divisible_by_3_and_5))  # Output: [15, 30]\n"
   ]
  },
  {
   "cell_type": "code",
   "execution_count": 45,
   "id": "89a55ae4-bade-4d62-a5b2-e8829c57f65d",
   "metadata": {},
   "outputs": [
    {
     "name": "stdout",
     "output_type": "stream",
     "text": [
      "[32.0, 68.0, 86.0, 104.0]\n"
     ]
    }
   ],
   "source": [
    "temperatures_in_celsius = [0, 20, 30, 40]\n",
    "temperatures_in_fahrenheit = map(lambda x: (x * 9/5) + 32, temperatures_in_celsius)\n",
    "\n",
    "print(list(temperatures_in_fahrenheit))\n"
   ]
  },
  {
   "cell_type": "code",
   "execution_count": 47,
   "id": "44d86ead-c91a-4a2e-9895-0427b1e72133",
   "metadata": {},
   "outputs": [
    {
     "name": "stdout",
     "output_type": "stream",
     "text": [
      "['Hello', 'World', 'Python']\n"
     ]
    }
   ],
   "source": [
    "words = [\"hello\", \"world\", \"python\"]\n",
    "capitalized_words = map(lambda x: x.capitalize(), words)\n",
    "\n",
    "print(list(capitalized_words))\n"
   ]
  },
  {
   "cell_type": "code",
   "execution_count": 49,
   "id": "f6225e7e-e771-4885-a4a4-645eb008578b",
   "metadata": {},
   "outputs": [
    {
     "name": "stdout",
     "output_type": "stream",
     "text": [
      "[5, 7, 9]\n"
     ]
    }
   ],
   "source": [
    "list1 = [1, 2, 3]\n",
    "list2 = [4, 5, 6]\n",
    "sum_lists = map(lambda x, y: x + y, list1, list2)\n",
    "\n",
    "print(list(sum_lists))  # Output: [5, 7, 9]\n"
   ]
  },
  {
   "cell_type": "code",
   "execution_count": 51,
   "id": "abadcc31-da57-451c-8e9d-78915e844cbb",
   "metadata": {},
   "outputs": [
    {
     "name": "stdout",
     "output_type": "stream",
     "text": [
      "['task1_done', 'task2_done', 'task3_done']\n"
     ]
    }
   ],
   "source": [
    "strings = [\"task1\", \"task2\", \"task3\"]\n",
    "completed_tasks = map(lambda x: x + \"_done\", strings)\n",
    "\n",
    "print(list(completed_tasks))\n"
   ]
  },
  {
   "cell_type": "code",
   "execution_count": 53,
   "id": "1008cd28-e5bb-42c8-8bbc-e11077b3d3ca",
   "metadata": {},
   "outputs": [
    {
     "name": "stdout",
     "output_type": "stream",
     "text": [
      "[2, 4, 6]\n"
     ]
    }
   ],
   "source": [
    "numbers = [1, 2, 3, 4, 5, 6]\n",
    "even_numbers = filter(lambda x: x % 2 == 0, numbers)\n",
    "\n",
    "print(list(even_numbers))  # Output: [2, 4, 6]\n"
   ]
  },
  {
   "cell_type": "code",
   "execution_count": 55,
   "id": "b87ed898-2842-4519-a572-342465bb513c",
   "metadata": {},
   "outputs": [
    {
     "ename": "NameError",
     "evalue": "name 'math' is not defined",
     "output_type": "error",
     "traceback": [
      "\u001b[1;31m---------------------------------------------------------------------------\u001b[0m",
      "\u001b[1;31mNameError\u001b[0m                                 Traceback (most recent call last)",
      "Cell \u001b[1;32mIn[55], line 12\u001b[0m\n\u001b[0;32m      9\u001b[0m numbers \u001b[38;5;241m=\u001b[39m [\u001b[38;5;241m2\u001b[39m, \u001b[38;5;241m3\u001b[39m, \u001b[38;5;241m4\u001b[39m, \u001b[38;5;241m5\u001b[39m, \u001b[38;5;241m6\u001b[39m, \u001b[38;5;241m7\u001b[39m, \u001b[38;5;241m8\u001b[39m, \u001b[38;5;241m9\u001b[39m]\n\u001b[0;32m     10\u001b[0m prime_numbers \u001b[38;5;241m=\u001b[39m \u001b[38;5;28mfilter\u001b[39m(is_prime, numbers)\n\u001b[1;32m---> 12\u001b[0m \u001b[38;5;28mprint\u001b[39m(\u001b[38;5;28mlist\u001b[39m(prime_numbers))\n",
      "Cell \u001b[1;32mIn[55], line 4\u001b[0m, in \u001b[0;36mis_prime\u001b[1;34m(n)\u001b[0m\n\u001b[0;32m      2\u001b[0m \u001b[38;5;28;01mif\u001b[39;00m n \u001b[38;5;241m<\u001b[39m \u001b[38;5;241m2\u001b[39m:\n\u001b[0;32m      3\u001b[0m     \u001b[38;5;28;01mreturn\u001b[39;00m \u001b[38;5;28;01mFalse\u001b[39;00m\n\u001b[1;32m----> 4\u001b[0m \u001b[38;5;28;01mfor\u001b[39;00m i \u001b[38;5;129;01min\u001b[39;00m \u001b[38;5;28mrange\u001b[39m(\u001b[38;5;241m2\u001b[39m, \u001b[38;5;28mint\u001b[39m(math\u001b[38;5;241m.\u001b[39msqrt(n)) \u001b[38;5;241m+\u001b[39m \u001b[38;5;241m1\u001b[39m):\n\u001b[0;32m      5\u001b[0m     \u001b[38;5;28;01mif\u001b[39;00m n \u001b[38;5;241m%\u001b[39m i \u001b[38;5;241m==\u001b[39m \u001b[38;5;241m0\u001b[39m:\n\u001b[0;32m      6\u001b[0m         \u001b[38;5;28;01mreturn\u001b[39;00m \u001b[38;5;28;01mFalse\u001b[39;00m\n",
      "\u001b[1;31mNameError\u001b[0m: name 'math' is not defined"
     ]
    }
   ],
   "source": [
    "def is_prime(n):\n",
    "    if n < 2:\n",
    "        return False\n",
    "    for i in range(2, int(math.sqrt(n)) + 1):\n",
    "        if n % i == 0:\n",
    "            return False\n",
    "    return True\n",
    "\n",
    "numbers = [2, 3, 4, 5, 6, 7, 8, 9]\n",
    "prime_numbers = filter(is_prime, numbers)\n",
    "\n",
    "print(list(prime_numbers))  # Output: [2, 3, 5, 7]\n"
   ]
  },
  {
   "cell_type": "code",
   "execution_count": 57,
   "id": "d6e6eff3-8f96-40ad-b420-7f60710fa45b",
   "metadata": {},
   "outputs": [
    {
     "name": "stdout",
     "output_type": "stream",
     "text": [
      "[1, 3, 5]\n"
     ]
    }
   ],
   "source": [
    "numbers = [1, -2, 3, -4, 5, -6]\n",
    "positive_numbers = filter(lambda x: x >= 0, numbers)\n",
    "\n",
    "print(list(positive_numbers))  # Output: [1, 3, 5]\n"
   ]
  },
  {
   "cell_type": "code",
   "execution_count": 59,
   "id": "df4b8e48-0657-4c24-8938-d9bf4200b264",
   "metadata": {},
   "outputs": [
    {
     "name": "stdout",
     "output_type": "stream",
     "text": [
      "120\n"
     ]
    }
   ],
   "source": [
    "from functools import reduce\n",
    "\n",
    "numbers = [1, 2, 3, 4, 5]\n",
    "product = reduce(lambda x, y: x * y, numbers)\n",
    "\n",
    "print(product)  # Output: 120\n"
   ]
  },
  {
   "cell_type": "code",
   "execution_count": 61,
   "id": "dd168ed5-8773-4fff-9e68-f3eab8276e8b",
   "metadata": {},
   "outputs": [
    {
     "name": "stdout",
     "output_type": "stream",
     "text": [
      "Hello World!\n"
     ]
    }
   ],
   "source": [
    "strings = [\"Hello\", \" \", \"World\", \"!\"]\n",
    "result = reduce(lambda x, y: x + y, strings)\n",
    "\n",
    "print(result)  # Output: 'Hello World!'\n"
   ]
  },
  {
   "cell_type": "code",
   "execution_count": null,
   "id": "cab09211-70f9-407b-801f-46acb0abe5af",
   "metadata": {},
   "outputs": [],
   "source": []
  }
 ],
 "metadata": {
  "kernelspec": {
   "display_name": "Python [conda env:base] *",
   "language": "python",
   "name": "conda-base-py"
  },
  "language_info": {
   "codemirror_mode": {
    "name": "ipython",
    "version": 3
   },
   "file_extension": ".py",
   "mimetype": "text/x-python",
   "name": "python",
   "nbconvert_exporter": "python",
   "pygments_lexer": "ipython3",
   "version": "3.12.7"
  }
 },
 "nbformat": 4,
 "nbformat_minor": 5
}
