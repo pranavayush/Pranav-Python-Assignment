{
 "cells": [
  {
   "cell_type": "code",
   "execution_count": 1,
   "id": "aae4f0a9-8564-4936-968c-4141c6c58ba7",
   "metadata": {},
   "outputs": [
    {
     "name": "stdout",
     "output_type": "stream",
     "text": [
      "Alice\n",
      "30\n",
      "Engineer\n"
     ]
    }
   ],
   "source": [
    "# Packing a tuple\n",
    "person = (\"Alice\", 30, \"Engineer\")\n",
    "\n",
    "# Unpacking the tuple into individual variables\n",
    "name, age, profession = person\n",
    "\n",
    "print(name)        # Output: Alice\n",
    "print(age)         # Output: 30\n",
    "print(profession)  # Output: Engineer\n"
   ]
  },
  {
   "cell_type": "code",
   "execution_count": 3,
   "id": "7a994b63-82ff-48d7-88f3-74d6d16db721",
   "metadata": {},
   "outputs": [
    {
     "name": "stdout",
     "output_type": "stream",
     "text": [
      "a: 10\n",
      "b: 5\n"
     ]
    }
   ],
   "source": [
    "a = 5\n",
    "b = 10\n",
    "\n",
    "# Swapping using tuple unpacking\n",
    "a, b = b, a\n",
    "\n",
    "print(\"a:\", a)  # Output: 10\n",
    "print(\"b:\", b)  # Output: 5\n"
   ]
  },
  {
   "cell_type": "code",
   "execution_count": 5,
   "id": "f0b342f5-8dfb-4e06-b1d4-d2e740f900b7",
   "metadata": {},
   "outputs": [
    {
     "name": "stdout",
     "output_type": "stream",
     "text": [
      "Sum: 7\n",
      "Product: 12\n"
     ]
    }
   ],
   "source": [
    "def sum_and_product(x, y):\n",
    "    return x + y, x * y  # Returns two values\n",
    "\n",
    "# Unpacking the returned values\n",
    "sum_result, product_result = sum_and_product(4, 3)\n",
    "\n",
    "print(\"Sum:\", sum_result)        # Output: 7\n",
    "print(\"Product:\", product_result)  # Output: 12\n"
   ]
  },
  {
   "cell_type": "code",
   "execution_count": 7,
   "id": "6bc9faa5-3513-47d1-ba49-2e7aa3e6fa8a",
   "metadata": {},
   "outputs": [
    {
     "name": "stdout",
     "output_type": "stream",
     "text": [
      "1\n",
      "2\n",
      "3\n",
      "4\n"
     ]
    }
   ],
   "source": [
    "nested_tuple = (1, (2, 3), 4)\n",
    "\n",
    "# Unpacking the nested tuple\n",
    "a, (b, c), d = nested_tuple\n",
    "\n",
    "print(a)  # Output: 1\n",
    "print(b)  # Output: 2\n",
    "print(c)  # Output: 3\n",
    "print(d)  # Output: 4\n"
   ]
  },
  {
   "cell_type": "code",
   "execution_count": 9,
   "id": "fff7ea90-66d2-4f68-ab1b-25f67bc0d02e",
   "metadata": {},
   "outputs": [
    {
     "name": "stdout",
     "output_type": "stream",
     "text": [
      "1\n",
      "[2, 3, 4]\n",
      "5\n"
     ]
    }
   ],
   "source": [
    "sequence = [1, 2, 3, 4, 5]\n",
    "\n",
    "# Unpacking the sequence\n",
    "head, *middle, tail = sequence\n",
    "\n",
    "print(head)    # Output: 1\n",
    "print(middle)  # Output: [2, 3, 4]\n",
    "print(tail)    # Output: 5\n"
   ]
  },
  {
   "cell_type": "code",
   "execution_count": 11,
   "id": "a20878c3-7c38-4899-b448-7fa19ace0fbb",
   "metadata": {},
   "outputs": [
    {
     "name": "stdout",
     "output_type": "stream",
     "text": [
      "[100, 2, 3]\n",
      "Error: 'tuple' object does not support item assignment\n"
     ]
    }
   ],
   "source": [
    "# List (mutable)\n",
    "mutable_list = [1, 2, 3]\n",
    "mutable_list[0] = 100  # Modifying the list\n",
    "print(mutable_list)  # Output: [100, 2, 3]\n",
    "\n",
    "# Tuple (immutable)\n",
    "immutable_tuple = (1, 2, 3)\n",
    "try:\n",
    "    immutable_tuple[0] = 100  # Attempting to modify tuple\n",
    "except TypeError as e:\n",
    "    print(f\"Error: {e}\")  # Output: TypeError: 'tuple' object does not support item assignment\n"
   ]
  },
  {
   "cell_type": "code",
   "execution_count": 13,
   "id": "9b7932dc-e793-40b8-92c0-da980cb4d225",
   "metadata": {},
   "outputs": [
    {
     "name": "stdout",
     "output_type": "stream",
     "text": [
      "2030707813824\n",
      "2030707813824\n",
      "2030730498752\n",
      "2030730498752\n"
     ]
    }
   ],
   "source": [
    "# Mutable list\n",
    "list1 = [1, 2, 3]\n",
    "list2 = list1\n",
    "print(id(list1))  # Memory address of list1\n",
    "print(id(list2))  # Memory address of list2 (same as list1)\n",
    "\n",
    "# Immutable tuple\n",
    "tuple1 = (1, 2, 3)\n",
    "tuple2 = tuple1\n",
    "print(id(tuple1))  # Memory address of tuple1\n",
    "print(id(tuple2))  # Memory address of tuple2 (same as tuple1)\n"
   ]
  },
  {
   "cell_type": "code",
   "execution_count": 15,
   "id": "8a2df6dd-fc90-43a1-9131-d41f4196d86c",
   "metadata": {},
   "outputs": [
    {
     "name": "stdout",
     "output_type": "stream",
     "text": [
      "['apple', 'banana', 'cherry', 'orange']\n",
      "Error: 'tuple' object has no attribute 'append'\n"
     ]
    }
   ],
   "source": [
    "# List (Mutable)\n",
    "shopping_cart_list = [\"apple\", \"banana\", \"cherry\"]\n",
    "shopping_cart_list.append(\"orange\")\n",
    "print(shopping_cart_list)  # Output: ['apple', 'banana', 'cherry', 'orange']\n",
    "\n",
    "# Tuple (Immutable)\n",
    "shopping_cart_tuple = (\"apple\", \"banana\", \"cherry\")\n",
    "try:\n",
    "    shopping_cart_tuple.append(\"orange\")\n",
    "except AttributeError as e:\n",
    "    print(f\"Error: {e}\")  # Output: Error: 'tuple' object has no attribute 'append'\n"
   ]
  },
  {
   "cell_type": "code",
   "execution_count": 17,
   "id": "03990c54-3a2e-4046-9b11-4f54609690b3",
   "metadata": {},
   "outputs": [
    {
     "name": "stdout",
     "output_type": "stream",
     "text": [
      "[1, 100, 200, 4, 5]\n",
      "Error: 'tuple' object does not support item assignment\n"
     ]
    }
   ],
   "source": [
    "# List (Mutable)\n",
    "lst = [1, 2, 3, 4, 5]\n",
    "lst[1:3] = [100, 200]\n",
    "print(lst)  # Output: [1, 100, 200, 4, 5]\n",
    "\n",
    "# Tuple (Immutable)\n",
    "tup = (1, 2, 3, 4, 5)\n",
    "try:\n",
    "    tup[1:3] = (100, 200)\n",
    "except TypeError as e:\n",
    "    print(f\"Error: {e}\")  # Output: TypeError: 'tuple' object does not support item assignment\n"
   ]
  },
  {
   "cell_type": "code",
   "execution_count": 19,
   "id": "29ccbe71-0dc7-4710-8ff0-8b5ba1a3ba7d",
   "metadata": {},
   "outputs": [
    {
     "name": "stdout",
     "output_type": "stream",
     "text": [
      "[1, 2, 3, 4, 5, 6]\n",
      "(1, 2, 3, 4, 5, 6)\n"
     ]
    }
   ],
   "source": [
    "# List (Mutable)\n",
    "list1 = [1, 2, 3]\n",
    "list2 = [4, 5, 6]\n",
    "concatenated_list = list1 + list2\n",
    "print(concatenated_list)  # Output: [1, 2, 3, 4, 5, 6]\n",
    "\n",
    "# Tuple (Immutable)\n",
    "tuple1 = (1, 2, 3)\n",
    "tuple2 = (4, 5, 6)\n",
    "concatenated_tuple = tuple1 + tuple2\n",
    "print(concatenated_tuple)  # Output: (1, 2, 3, 4, 5, 6)\n"
   ]
  },
  {
   "cell_type": "code",
   "execution_count": 21,
   "id": "eabf6f3f-97ef-4492-a159-214afe331cde",
   "metadata": {},
   "outputs": [
    {
     "name": "stdout",
     "output_type": "stream",
     "text": [
      "Hello World\n",
      "['Hello', 'World']\n",
      "Hello World\n",
      "6\n",
      "Hello Python\n"
     ]
    }
   ],
   "source": [
    "# join()\n",
    "words = [\"Hello\", \"World\"]\n",
    "sentence = \" \".join(words)\n",
    "print(sentence)  # Output: \"Hello World\"\n",
    "\n",
    "# split()\n",
    "sentence = \"Hello World\"\n",
    "words = sentence.split()\n",
    "print(words)  # Output: ['Hello', 'World']\n",
    "\n",
    "# strip()\n",
    "text = \"  Hello World  \"\n",
    "cleaned_text = text.strip()\n",
    "print(cleaned_text)  # Output: \"Hello World\"\n",
    "\n",
    "# find()\n",
    "sentence = \"Hello World\"\n",
    "position = sentence.find(\"World\")\n",
    "print(position)  # Output: 6\n",
    "\n",
    "# replace()\n",
    "text = \"Hello World\"\n",
    "new_text = text.replace(\"World\", \"Python\")\n",
    "print(new_text)  # Output: \"Hello Python\"\n"
   ]
  },
  {
   "cell_type": "code",
   "execution_count": 23,
   "id": "e776547a-9281-439b-a7e4-25dae5d21d3b",
   "metadata": {},
   "outputs": [
    {
     "name": "stdout",
     "output_type": "stream",
     "text": [
      "{'Hello': 1, 'hello': 1, 'world': 3}\n"
     ]
    }
   ],
   "source": [
    "def word_frequency(sentence):\n",
    "    words = sentence.split()\n",
    "    frequency = {}\n",
    "    for word in words:\n",
    "        frequency[word] = frequency.get(word, 0) + 1\n",
    "    return frequency\n",
    "\n",
    "sentence = \"Hello hello world world world\"\n",
    "print(word_frequency(sentence))\n",
    "# Output: {'Hello': 1, 'hello': 1, 'world': 3}\n"
   ]
  },
  {
   "cell_type": "code",
   "execution_count": 25,
   "id": "a06d4a5d-7f31-4d18-9f2b-341cea3eb23d",
   "metadata": {},
   "outputs": [
    {
     "name": "stdout",
     "output_type": "stream",
     "text": [
      "Hello WORLD\n"
     ]
    }
   ],
   "source": [
    "def capitalize_and_reverse_case(s):\n",
    "    return ' '.join([word.capitalize() if i == 0 else word.swapcase() for i, word in enumerate(s.split())])\n",
    "\n",
    "sentence = \"hello world\"\n",
    "print(capitalize_and_reverse_case(sentence))  # Output: \"Hello WORLD\"\n"
   ]
  },
  {
   "cell_type": "code",
   "execution_count": 27,
   "id": "e34c6781-f502-4d06-9103-da53fda1a628",
   "metadata": {},
   "outputs": [
    {
     "name": "stdout",
     "output_type": "stream",
     "text": [
      "['m', 'madam', 'a', 'ada', 'd', 'a', 'm']\n"
     ]
    }
   ],
   "source": [
    "def palindromic_substrings(s):\n",
    "    palindromes = []\n",
    "    for i in range(len(s)):\n",
    "        for j in range(i+1, len(s)+1):\n",
    "            substring = s[i:j]\n",
    "            if substring == substring[::-1]:\n",
    "                palindromes.append(substring)\n",
    "    return palindromes\n",
    "\n",
    "string = \"madam\"\n",
    "print(palindromic_substrings(string))  # Output: ['m', 'a', 'd', 'a', 'm', 'madam']\n"
   ]
  },
  {
   "cell_type": "code",
   "execution_count": 29,
   "id": "a2a89d7a-be41-4eb7-95bf-566fad1ef362",
   "metadata": {},
   "outputs": [
    {
     "name": "stdout",
     "output_type": "stream",
     "text": [
      "['test@example.com', 'support@company.org']\n"
     ]
    }
   ],
   "source": [
    "import re\n",
    "\n",
    "def extract_emails(text):\n",
    "    pattern = r\"[a-zA-Z0-9._%+-]+@[a-zA-Z0-9.-]+\\.[a-zA-Z]{2,}\"\n",
    "    return re.findall(pattern, text)\n",
    "\n",
    "text = \"Contact me at test@example.com and support@company.org\"\n",
    "print(extract_emails(text))  # Output: ['test@example.com', 'support@company.org']\n"
   ]
  },
  {
   "cell_type": "code",
   "execution_count": 31,
   "id": "924564d2-4532-45f0-9633-15248880458a",
   "metadata": {},
   "outputs": [
    {
     "name": "stdout",
     "output_type": "stream",
     "text": [
      "[1, 4, 9, 16, 25, 36, 49, 64, 81, 100]\n"
     ]
    }
   ],
   "source": [
    "squares = [x**2 for x in range(1, 11)]\n",
    "print(squares)  # Output: [1, 4, 9, 16, 25, 36, 49, 64, 81, 100]\n"
   ]
  },
  {
   "cell_type": "code",
   "execution_count": 33,
   "id": "36032598-69de-460f-ac35-48120f233952",
   "metadata": {},
   "outputs": [
    {
     "name": "stdout",
     "output_type": "stream",
     "text": [
      "['h', 'l', 'l', ' ', 'w', 'r', 'l', 'd']\n"
     ]
    }
   ],
   "source": [
    "string = \"hello world\"\n",
    "vowels = \"aeiou\"\n",
    "filtered = [char for char in string if char not in vowels]\n",
    "print(filtered)  # Output: ['h', 'l', 'l', ' ', 'w', 'r', 'l', 'd']\n"
   ]
  },
  {
   "cell_type": "code",
   "execution_count": 35,
   "id": "89cf12e0-da79-45c3-8b52-9eeeb9962120",
   "metadata": {},
   "outputs": [
    {
     "name": "stdout",
     "output_type": "stream",
     "text": [
      "[1, 2, 3, 5, 7, 11, 13, 17, 19, 23, 29, 31, 37, 41, 43, 47]\n"
     ]
    }
   ],
   "source": [
    "primes = [x for x in range(1, 51) if all(x % i != 0 for i in range(2, x))]\n",
    "print(primes)  # Output: [2, 3, 5, 7, 11, 13, 17, 19, 23, 29, 31, 37, 41, 43, 47]\n"
   ]
  },
  {
   "cell_type": "code",
   "execution_count": 37,
   "id": "539c5dff-dde6-4223-81c2-a378213f2801",
   "metadata": {},
   "outputs": [
    {
     "name": "stdout",
     "output_type": "stream",
     "text": [
      "{'name': 'Alice', 'age': 30, 'profession': 'Engineer'}\n"
     ]
    }
   ],
   "source": [
    "keys = [\"name\", \"age\", \"profession\"]\n",
    "values = [\"Alice\", 30, \"Engineer\"]\n",
    "dictionary = {keys[i]: values[i] for i in range(len(keys))}\n",
    "print(dictionary)  # Output: {'name': 'Alice', 'age': 30, 'profession':\n"
   ]
  },
  {
   "cell_type": "code",
   "execution_count": null,
   "id": "f676dde8-3f70-49be-8c3e-f9955a334616",
   "metadata": {},
   "outputs": [],
   "source": []
  }
 ],
 "metadata": {
  "kernelspec": {
   "display_name": "Python [conda env:base] *",
   "language": "python",
   "name": "conda-base-py"
  },
  "language_info": {
   "codemirror_mode": {
    "name": "ipython",
    "version": 3
   },
   "file_extension": ".py",
   "mimetype": "text/x-python",
   "name": "python",
   "nbconvert_exporter": "python",
   "pygments_lexer": "ipython3",
   "version": "3.12.7"
  }
 },
 "nbformat": 4,
 "nbformat_minor": 5
}
