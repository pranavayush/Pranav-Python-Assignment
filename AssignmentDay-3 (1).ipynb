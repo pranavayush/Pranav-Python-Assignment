{
 "cells": [
  {
   "cell_type": "code",
   "execution_count": 1,
   "id": "345b9992-c2b5-4dc2-8714-665a0a469bca",
   "metadata": {},
   "outputs": [
    {
     "name": "stdin",
     "output_type": "stream",
     "text": [
      "Enter a string in upper case:  12\n"
     ]
    },
    {
     "name": "stdout",
     "output_type": "stream",
     "text": [
      "String in lower case: 12\n"
     ]
    }
   ],
   "source": [
    "string = input(\"Enter a string in upper case: \")\n",
    "lower_case_string = string.lower()\n",
    "print(f\"String in lower case: {lower_case_string}\")\n"
   ]
  },
  {
   "cell_type": "code",
   "execution_count": 3,
   "id": "ee0a61cd-e4b3-4b15-82ec-1f8ba1b04825",
   "metadata": {},
   "outputs": [
    {
     "name": "stdin",
     "output_type": "stream",
     "text": [
      "Enter a string in lower case:  1\n"
     ]
    },
    {
     "name": "stdout",
     "output_type": "stream",
     "text": [
      "String in upper case: 1\n"
     ]
    }
   ],
   "source": [
    "string = input(\"Enter a string in lower case: \")\n",
    "upper_case_string = string.upper()\n",
    "print(f\"String in upper case: {upper_case_string}\")\n"
   ]
  },
  {
   "cell_type": "code",
   "execution_count": 5,
   "id": "861f8fb1-297b-4aee-8e6c-19d74a62f82a",
   "metadata": {},
   "outputs": [
    {
     "name": "stdin",
     "output_type": "stream",
     "text": [
      "Enter a string:  12\n"
     ]
    },
    {
     "name": "stdout",
     "output_type": "stream",
     "text": [
      "String without consonants: 12\n"
     ]
    }
   ],
   "source": [
    "string = input(\"Enter a string: \")\n",
    "vowels = \"aeiouAEIOU\"\n",
    "result = \"\".join([char for char in string if char in vowels or not char.isalpha()])\n",
    "print(f\"String without consonants: {result}\")\n"
   ]
  },
  {
   "cell_type": "code",
   "execution_count": 7,
   "id": "bb725828-b478-4611-ac6b-a84aa1c64ae8",
   "metadata": {},
   "outputs": [
    {
     "name": "stdin",
     "output_type": "stream",
     "text": [
      "Enter a string:  12\n"
     ]
    },
    {
     "name": "stdout",
     "output_type": "stream",
     "text": [
      "Alphabets: 0, Digits: 2, Spaces: 0, Special characters: 0\n"
     ]
    }
   ],
   "source": [
    "string = input(\"Enter a string: \")\n",
    "alphabets = sum(c.isalpha() for c in string)\n",
    "digits = sum(c.isdigit() for c in string)\n",
    "spaces = sum(c.isspace() for c in string)\n",
    "special_chars = len(string) - alphabets - digits - spaces\n",
    "print(f\"Alphabets: {alphabets}, Digits: {digits}, Spaces: {spaces}, Special characters: {special_chars}\")\n"
   ]
  },
  {
   "cell_type": "code",
   "execution_count": 9,
   "id": "b8b15a79-16ff-48bb-8c30-f5dd3bd91583",
   "metadata": {},
   "outputs": [
    {
     "name": "stdin",
     "output_type": "stream",
     "text": [
      "Enter a multi-word string:  45\n"
     ]
    },
    {
     "name": "stdout",
     "output_type": "stream",
     "text": [
      "Number of words: 1\n"
     ]
    }
   ],
   "source": [
    "string = input(\"Enter a multi-word string: \")\n",
    "words = len(string.split())\n",
    "print(f\"Number of words: {words}\")\n"
   ]
  },
  {
   "cell_type": "code",
   "execution_count": 11,
   "id": "003670ed-2c09-41e3-b6f1-263d5743db2e",
   "metadata": {},
   "outputs": [
    {
     "name": "stdin",
     "output_type": "stream",
     "text": [
      "Enter a string:  12\n"
     ]
    },
    {
     "name": "stdout",
     "output_type": "stream",
     "text": [
      "Sorted string: 12\n"
     ]
    }
   ],
   "source": [
    "string = input(\"Enter a string: \")\n",
    "sorted_string = \"\".join(sorted(string))\n",
    "print(f\"Sorted string: {sorted_string}\")\n"
   ]
  },
  {
   "cell_type": "code",
   "execution_count": 13,
   "id": "37a6b199-ee6b-43a9-a2cc-baf2bf7461b7",
   "metadata": {},
   "outputs": [
    {
     "name": "stdin",
     "output_type": "stream",
     "text": [
      "Enter the first string:  12\n",
      "Enter the second string:  56\n"
     ]
    },
    {
     "name": "stdout",
     "output_type": "stream",
     "text": [
      "Concatenated string: 1256\n"
     ]
    }
   ],
   "source": [
    "string1 = input(\"Enter the first string: \")\n",
    "string2 = input(\"Enter the second string: \")\n",
    "concatenated_string = string1 + string2\n",
    "print(f\"Concatenated string: {concatenated_string}\")\n"
   ]
  },
  {
   "cell_type": "code",
   "execution_count": 15,
   "id": "add82521-a5c7-4466-b0f7-5c4013390e5b",
   "metadata": {},
   "outputs": [
    {
     "name": "stdin",
     "output_type": "stream",
     "text": [
      "Enter a string:  34\n"
     ]
    },
    {
     "name": "stdout",
     "output_type": "stream",
     "text": [
      "Length of the string: 2\n"
     ]
    }
   ],
   "source": [
    "string = input(\"Enter a string: \")\n",
    "length = len(string)\n",
    "print(f\"Length of the string: {length}\")\n"
   ]
  },
  {
   "cell_type": "code",
   "execution_count": 17,
   "id": "797e3a84-e5b7-4195-aed3-3eac9de51972",
   "metadata": {},
   "outputs": [
    {
     "name": "stdin",
     "output_type": "stream",
     "text": [
      "Enter a string:  23\n"
     ]
    },
    {
     "name": "stdout",
     "output_type": "stream",
     "text": [
      "Length of the string: 2\n"
     ]
    }
   ],
   "source": [
    "string = input(\"Enter a string: \")\n",
    "length = 0\n",
    "for _ in string:\n",
    "    length += 1\n",
    "print(f\"Length of the string: {length}\")\n"
   ]
  },
  {
   "cell_type": "code",
   "execution_count": 19,
   "id": "a68be600-2c5d-4952-aefa-3450cf90643e",
   "metadata": {},
   "outputs": [
    {
     "name": "stdin",
     "output_type": "stream",
     "text": [
      "Enter a full name:  12\n"
     ]
    },
    {
     "name": "stdout",
     "output_type": "stream",
     "text": [
      "Initials: 1\n"
     ]
    }
   ],
   "source": [
    "name = input(\"Enter a full name: \")\n",
    "initials = \"\".join([word[0] for word in name.split()]).upper()\n",
    "print(f\"Initials: {initials}\")"
   ]
  },
  {
   "cell_type": "code",
   "execution_count": 21,
   "id": "646c35b1-0f14-4dd4-ab92-2d0ebd509261",
   "metadata": {},
   "outputs": [
    {
     "name": "stdin",
     "output_type": "stream",
     "text": [
      "Enter a string:  9\n"
     ]
    },
    {
     "name": "stdout",
     "output_type": "stream",
     "text": [
      "The string is a palindrome.\n"
     ]
    }
   ],
   "source": [
    "string = input(\"Enter a string: \")\n",
    "if string == string[::-1]:\n",
    "    print(\"The string is a palindrome.\")\n",
    "else:\n",
    "    print(\"The string is not a palindrome.\")\n"
   ]
  },
  {
   "cell_type": "code",
   "execution_count": 23,
   "id": "74641592-7091-452f-92c2-41e807b6430d",
   "metadata": {},
   "outputs": [
    {
     "name": "stdin",
     "output_type": "stream",
     "text": [
      "Enter names separated by spaces:  87\n"
     ]
    },
    {
     "name": "stdout",
     "output_type": "stream",
     "text": [
      "Names in lexicographical order: 87\n"
     ]
    }
   ],
   "source": [
    "names = input(\"Enter names separated by spaces: \").split()\n",
    "sorted_names = sorted(names)\n",
    "print(f\"Names in lexicographical order: {' '.join(sorted_names)}\")\n"
   ]
  },
  {
   "cell_type": "code",
   "execution_count": null,
   "id": "f8f0caf2-089c-4835-88b6-b1b2e1496355",
   "metadata": {},
   "outputs": [],
   "source": []
  }
 ],
 "metadata": {
  "kernelspec": {
   "display_name": "Python [conda env:base] *",
   "language": "python",
   "name": "conda-base-py"
  },
  "language_info": {
   "codemirror_mode": {
    "name": "ipython",
    "version": 3
   },
   "file_extension": ".py",
   "mimetype": "text/x-python",
   "name": "python",
   "nbconvert_exporter": "python",
   "pygments_lexer": "ipython3",
   "version": "3.12.7"
  }
 },
 "nbformat": 4,
 "nbformat_minor": 5
}
