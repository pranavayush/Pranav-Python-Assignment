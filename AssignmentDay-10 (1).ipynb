{
 "cells": [
  {
   "cell_type": "code",
   "execution_count": 2,
   "id": "11a99ffc-7dd1-4443-a78f-4539d3e43be3",
   "metadata": {},
   "outputs": [
    {
     "data": {
      "text/plain": [
       "{1, 2, 3}"
      ]
     },
     "execution_count": 2,
     "metadata": {},
     "output_type": "execute_result"
    }
   ],
   "source": [
    "set1={1,2,3}\n",
    "set2={4,5,6}\n",
    "set1.union(set2)"
   ]
  },
  {
   "cell_type": "code",
   "execution_count": 4,
   "id": "455d739b-3bc5-485c-ab4d-03f7cc2c8061",
   "metadata": {},
   "outputs": [
    {
     "data": {
      "text/plain": [
       "set()"
      ]
     },
     "execution_count": 4,
     "metadata": {},
     "output_type": "execute_result"
    }
   ],
   "source": [
    "set1={1,2,3}\n",
    "set2={4,5,6}\n",
    "set1.intersection(set2)"
   ]
  },
  {
   "cell_type": "code",
   "execution_count": 6,
   "id": "cb915a9e-c8ae-4a70-896c-47be5a34fa0b",
   "metadata": {},
   "outputs": [
    {
     "data": {
      "text/plain": [
       "{1, 2, 3}"
      ]
     },
     "execution_count": 6,
     "metadata": {},
     "output_type": "execute_result"
    }
   ],
   "source": [
    "set1={1,2,3}\n",
    "set2={4,5,6}\n",
    "set1.difference(set2)"
   ]
  },
  {
   "cell_type": "code",
   "execution_count": 10,
   "id": "0cf0d1a6-63a0-4034-8cf3-32f36081a3c7",
   "metadata": {},
   "outputs": [
    {
     "name": "stdout",
     "output_type": "stream",
     "text": [
      "{2, 3, 4}\n"
     ]
    }
   ],
   "source": [
    "my_set={1,2,3,4}\n",
    "my_set.remove(1)\n",
    "print(my_set)"
   ]
  },
  {
   "cell_type": "code",
   "execution_count": 19,
   "id": "066cc5a1-a859-4563-89fe-6fb2d1711c17",
   "metadata": {},
   "outputs": [
    {
     "name": "stdout",
     "output_type": "stream",
     "text": [
      "{'name': 'pranav', 'age': '19', 'city': 'delhi'}\n"
     ]
    }
   ],
   "source": [
    "my_dict={\"name\": \"pranav\", \"age\": \"19\", \"city\": \"delhi\"}\n",
    "print(my_dict)"
   ]
  },
  {
   "cell_type": "code",
   "execution_count": 21,
   "id": "d673b648-97b7-4a38-81f8-ce9249011d4b",
   "metadata": {},
   "outputs": [
    {
     "data": {
      "text/plain": [
       "'19'"
      ]
     },
     "execution_count": 21,
     "metadata": {},
     "output_type": "execute_result"
    }
   ],
   "source": [
    "my_dict.get(\"age\",\"19\")"
   ]
  },
  {
   "cell_type": "code",
   "execution_count": 23,
   "id": "a6b05d5b-50fb-46aa-a909-6c0c3bcea78b",
   "metadata": {},
   "outputs": [
    {
     "data": {
      "text/plain": [
       "0"
      ]
     },
     "execution_count": 23,
     "metadata": {},
     "output_type": "execute_result"
    }
   ],
   "source": [
    "my_dict.get(\"department\",0)"
   ]
  },
  {
   "cell_type": "code",
   "execution_count": 27,
   "id": "28211785-9ff9-4fda-89be-da6e8f6428da",
   "metadata": {},
   "outputs": [
    {
     "data": {
      "text/plain": [
       "['pranav', '19', 'delhi']"
      ]
     },
     "execution_count": 27,
     "metadata": {},
     "output_type": "execute_result"
    }
   ],
   "source": [
    "list(my_dict.values())"
   ]
  },
  {
   "cell_type": "code",
   "execution_count": 29,
   "id": "f53ed12b-c132-400a-942e-e900bac6b9fd",
   "metadata": {},
   "outputs": [
    {
     "data": {
      "text/plain": [
       "['name', 'age', 'city']"
      ]
     },
     "execution_count": 29,
     "metadata": {},
     "output_type": "execute_result"
    }
   ],
   "source": [
    "list(my_dict.keys())"
   ]
  },
  {
   "cell_type": "code",
   "execution_count": 3,
   "id": "77e8f63a-c184-42b8-bb18-4a402732766b",
   "metadata": {},
   "outputs": [
    {
     "name": "stdout",
     "output_type": "stream",
     "text": [
      "{'apple': 3, 'banana': 2, 'orange': 1}\n"
     ]
    }
   ],
   "source": [
    "word_list = [\"apple\", \"banana\", \"apple\", \"orange\", \"banana\", \"apple\"]\n",
    "\n",
    "word_count = {}\n",
    "for word in word_list:\n",
    "    word_count[word] = word_count.get(word, 0) + 1\n",
    "\n",
    "print(word_count)  # Output: {'apple': 3, 'banana': 2, 'orange': 1}\n"
   ]
  },
  {
   "cell_type": "code",
   "execution_count": 5,
   "id": "7a6b480b-d182-4e40-a152-5e0364f29b01",
   "metadata": {},
   "outputs": [
    {
     "name": "stdout",
     "output_type": "stream",
     "text": [
      "True\n",
      "False\n"
     ]
    }
   ],
   "source": [
    "import re\n",
    "\n",
    "# Function to validate phone number\n",
    "def validate_phone_number(phone):\n",
    "    phone_pattern = r\"^\\d{3}-\\d{3}-\\d{4}$\"\n",
    "    if re.match(phone_pattern, phone):\n",
    "        return True\n",
    "    return False\n",
    "\n",
    "# Test the function\n",
    "phone_number = \"123-456-7890\"\n",
    "print(validate_phone_number(phone_number))  # Output: True\n",
    "\n",
    "invalid_phone_number = \"123-45-67890\"\n",
    "print(validate_phone_number(invalid_phone_number))  # Output: False\n"
   ]
  },
  {
   "cell_type": "code",
   "execution_count": 7,
   "id": "5c25bbde-32d2-49f6-9e78-d243a6c00537",
   "metadata": {},
   "outputs": [
    {
     "name": "stdout",
     "output_type": "stream",
     "text": [
      "['Hello', 'world!', 'This', 'is', 'a', 'test.', 'How', 'are', 'you', 'doing', 'today?', 'Have', 'a', 'great', 'day.']\n"
     ]
    }
   ],
   "source": [
    "import re\n",
    "\n",
    "paragraph = \"Hello world! This is a test. How are you doing today? Have a great day.\"\n",
    "\n",
    "# Regex pattern to split sentences\n",
    "sentence_pattern = r\"([A-Za-z0-9,;'-]+(?:[.!?])?)\"\n",
    "\n",
    "# Split the paragraph into sentences\n",
    "sentences = re.findall(sentence_pattern, paragraph)\n",
    "\n",
    "print(sentences)\n",
    "# Output: ['Hello world!', 'This is a test.', 'How are you doing today?', 'Have a great day.']\n"
   ]
  },
  {
   "cell_type": "code",
   "execution_count": null,
   "id": "b98ad899-24a1-42fa-bef1-9f58da7aea20",
   "metadata": {},
   "outputs": [],
   "source": []
  }
 ],
 "metadata": {
  "kernelspec": {
   "display_name": "Python [conda env:base] *",
   "language": "python",
   "name": "conda-base-py"
  },
  "language_info": {
   "codemirror_mode": {
    "name": "ipython",
    "version": 3
   },
   "file_extension": ".py",
   "mimetype": "text/x-python",
   "name": "python",
   "nbconvert_exporter": "python",
   "pygments_lexer": "ipython3",
   "version": "3.12.7"
  }
 },
 "nbformat": 4,
 "nbformat_minor": 5
}
