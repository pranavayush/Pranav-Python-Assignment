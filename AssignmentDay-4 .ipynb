{
 "cells": [
  {
   "cell_type": "code",
   "execution_count": 1,
   "id": "4c128908-a440-4910-b410-f619aa4b155a",
   "metadata": {},
   "outputs": [
    {
     "name": "stdin",
     "output_type": "stream",
     "text": [
      "Enter the first number:  12\n",
      "Enter the second number:  34\n"
     ]
    },
    {
     "name": "stdout",
     "output_type": "stream",
     "text": [
      "The greatest number is: 34.0\n"
     ]
    }
   ],
   "source": [
    "num1 = float(input(\"Enter the first number: \"))\n",
    "num2 = float(input(\"Enter the second number: \"))\n",
    "if num1 > num2:\n",
    "    print(f\"The greatest number is: {num1}\")\n",
    "elif num2 > num1:\n",
    "    print(f\"The greatest number is: {num2}\")\n",
    "else:\n",
    "    print(\"Both numbers are equal.\")"
   ]
  },
  {
   "cell_type": "code",
   "execution_count": 3,
   "id": "e303dba6-635a-4e0b-8707-523f5f689ed0",
   "metadata": {},
   "outputs": [
    {
     "name": "stdin",
     "output_type": "stream",
     "text": [
      "Enter the first number:  76\n",
      "Enter the second number:  98\n"
     ]
    },
    {
     "name": "stdout",
     "output_type": "stream",
     "text": [
      "The greatest number is: 98.0\n"
     ]
    }
   ],
   "source": [
    "num1 = float(input(\"Enter the first number: \"))\n",
    "num2 = float(input(\"Enter the second number: \"))\n",
    "if num1 > num2:\n",
    "    print(f\"The greatest number is: {num1}\")\n",
    "elif num2 > num1:\n",
    "    print(f\"The greatest number is: {num2}\")\n",
    "else:\n",
    "    print(\"Both numbers are equal.\")\n"
   ]
  },
  {
   "cell_type": "code",
   "execution_count": 1,
   "id": "8e7aec68-e381-4dff-beb4-7677bbe6220e",
   "metadata": {},
   "outputs": [
    {
     "name": "stdin",
     "output_type": "stream",
     "text": [
      "Enter an integer:  12\n"
     ]
    },
    {
     "name": "stdout",
     "output_type": "stream",
     "text": [
      "The integer is Positive.\n"
     ]
    }
   ],
   "source": [
    "num = int(input(\"Enter an integer: \"))\n",
    "\n",
    "if num > 0:\n",
    "    print(\"The integer is Positive.\")\n",
    "elif num < 0:\n",
    "    print(\"The integer is Negative.\")\n",
    "else:\n",
    "    print(\"The integer is Zero.\")\n"
   ]
  },
  {
   "cell_type": "code",
   "execution_count": 3,
   "id": "5af2fd9d-da75-4fc9-b49c-839d588d3237",
   "metadata": {},
   "outputs": [
    {
     "name": "stdin",
     "output_type": "stream",
     "text": [
      "Enter an integer:  12\n"
     ]
    },
    {
     "name": "stdout",
     "output_type": "stream",
     "text": [
      "The integer is Even.\n"
     ]
    }
   ],
   "source": [
    "num = int(input(\"Enter an integer: \"))\n",
    "\n",
    "if num % 2 == 0:\n",
    "    print(\"The integer is Even.\")\n",
    "else:\n",
    "    print(\"The integer is Odd.\")\n"
   ]
  },
  {
   "cell_type": "code",
   "execution_count": 5,
   "id": "13168537-a7ae-4146-9128-13ecc54594e0",
   "metadata": {},
   "outputs": [
    {
     "name": "stdin",
     "output_type": "stream",
     "text": [
      "Enter an integer:  9\n"
     ]
    },
    {
     "name": "stdout",
     "output_type": "stream",
     "text": [
      "The integer is Not Divisible by 5.\n"
     ]
    }
   ],
   "source": [
    "num = int(input(\"Enter an integer: \"))\n",
    "\n",
    "if num % 5 == 0:\n",
    "    print(\"The integer is Divisible by 5.\")\n",
    "else:\n",
    "    print(\"The integer is Not Divisible by 5.\")\n"
   ]
  },
  {
   "cell_type": "code",
   "execution_count": 7,
   "id": "ee295e95-bf01-453b-8226-dc3bdca03a12",
   "metadata": {},
   "outputs": [
    {
     "name": "stdin",
     "output_type": "stream",
     "text": [
      "Enter the first number:  12\n",
      "Enter the second number:  34\n",
      "Enter the third number:  65\n"
     ]
    },
    {
     "name": "stdout",
     "output_type": "stream",
     "text": [
      "The greatest number is: 65.0\n"
     ]
    }
   ],
   "source": [
    "num1 = float(input(\"Enter the first number: \"))\n",
    "num2 = float(input(\"Enter the second number: \"))\n",
    "num3 = float(input(\"Enter the third number: \"))\n",
    "\n",
    "if num1 > num2 and num1 > num3:\n",
    "    print(f\"The greatest number is: {num1}\")\n",
    "elif num2 > num3:\n",
    "    print(f\"The greatest number is: {num2}\")\n",
    "else:\n",
    "    print(f\"The greatest number is: {num3}\")\n"
   ]
  },
  {
   "cell_type": "code",
   "execution_count": 9,
   "id": "c73d74ea-e025-4e4e-878d-fa5aed013a2c",
   "metadata": {},
   "outputs": [
    {
     "name": "stdin",
     "output_type": "stream",
     "text": [
      "Enter the first number:  12\n",
      "Enter the second number:  34\n",
      "Enter the third number:  54\n"
     ]
    },
    {
     "name": "stdout",
     "output_type": "stream",
     "text": [
      "The greatest number is: 54.0\n"
     ]
    }
   ],
   "source": [
    "num1 = float(input(\"Enter the first number: \"))\n",
    "num2 = float(input(\"Enter the second number: \"))\n",
    "num3 = float(input(\"Enter the third number: \"))\n",
    "\n",
    "if num1 > num2:\n",
    "    if num1 > num3:\n",
    "        print(f\"The greatest number is: {num1}\")\n",
    "    else:\n",
    "        print(f\"The greatest number is: {num3}\")\n",
    "else:\n",
    "    if num2 > num3:\n",
    "        print(f\"The greatest number is: {num2}\")\n",
    "    else:\n",
    "        print(f\"The greatest number is: {num3}\")\n"
   ]
  },
  {
   "cell_type": "code",
   "execution_count": 11,
   "id": "dfd68011-6381-417a-93aa-a000af655c35",
   "metadata": {},
   "outputs": [
    {
     "name": "stdin",
     "output_type": "stream",
     "text": [
      "Enter a character:  12\n"
     ]
    },
    {
     "name": "stdout",
     "output_type": "stream",
     "text": [
      "The input is not a valid alphabet character.\n"
     ]
    }
   ],
   "source": [
    "char = input(\"Enter a character: \")\n",
    "\n",
    "if char.isupper():\n",
    "    print(f\"The lowercase is: {char.lower()}\")\n",
    "elif char.islower():\n",
    "    print(f\"The uppercase is: {char.upper()}\")\n",
    "else:\n",
    "    print(\"The input is not a valid alphabet character.\")\n"
   ]
  },
  {
   "cell_type": "code",
   "execution_count": 13,
   "id": "c1080376-a2f1-452a-8d27-90ab5115c2ad",
   "metadata": {},
   "outputs": [
    {
     "name": "stdin",
     "output_type": "stream",
     "text": [
      "Enter a year:  12\n"
     ]
    },
    {
     "name": "stdout",
     "output_type": "stream",
     "text": [
      "12 is a Leap Year.\n"
     ]
    }
   ],
   "source": [
    "year = int(input(\"Enter a year: \"))\n",
    "\n",
    "if (year % 4 == 0 and year % 100 != 0) or (year % 400 == 0):\n",
    "    print(f\"{year} is a Leap Year.\")\n",
    "else:\n",
    "    print(f\"{year} is Not a Leap Year.\")\n"
   ]
  },
  {
   "cell_type": "code",
   "execution_count": 15,
   "id": "19726c29-4184-4139-b06c-2bbf76f6734a",
   "metadata": {},
   "outputs": [
    {
     "name": "stdin",
     "output_type": "stream",
     "text": [
      "Enter an alphabet:  89\n"
     ]
    },
    {
     "name": "stdout",
     "output_type": "stream",
     "text": [
      "89 is a Consonant.\n"
     ]
    }
   ],
   "source": [
    "char = input(\"Enter an alphabet: \").lower()\n",
    "\n",
    "if char in 'aeiou':\n",
    "    print(f\"{char} is a Vowel.\")\n",
    "else:\n",
    "    print(f\"{char} is a Consonant.\")\n"
   ]
  },
  {
   "cell_type": "code",
   "execution_count": 17,
   "id": "108642b5-6a4b-4538-95c9-c8fd42117d99",
   "metadata": {},
   "outputs": [
    {
     "name": "stdin",
     "output_type": "stream",
     "text": [
      "Enter x-coordinate:  12\n",
      "Enter y-coordinate:  34\n"
     ]
    },
    {
     "name": "stdout",
     "output_type": "stream",
     "text": [
      "The point lies in Quadrant I.\n"
     ]
    }
   ],
   "source": [
    "x = float(input(\"Enter x-coordinate: \"))\n",
    "y = float(input(\"Enter y-coordinate: \"))\n",
    "\n",
    "if x > 0 and y > 0:\n",
    "    print(\"The point lies in Quadrant I.\")\n",
    "elif x < 0 and y > 0:\n",
    "    print(\"The point lies in Quadrant II.\")\n",
    "elif x < 0 and y < 0:\n",
    "    print(\"The point lies in Quadrant III.\")\n",
    "elif x > 0 and y < 0:\n",
    "    print(\"The point lies in Quadrant IV.\")\n",
    "else:\n",
    "    print(\"The point lies on the Origin or Axis.\")\n"
   ]
  },
  {
   "cell_type": "code",
   "execution_count": 19,
   "id": "9cca931e-5d1b-4a4c-af17-63011ffe37a3",
   "metadata": {},
   "outputs": [
    {
     "name": "stdin",
     "output_type": "stream",
     "text": [
      "Enter the first complex number (e.g., 3+4j):  23\n",
      "Enter the second complex number:  45\n"
     ]
    },
    {
     "name": "stdout",
     "output_type": "stream",
     "text": [
      "The sum of the two complex numbers is: (68+0j)\n"
     ]
    }
   ],
   "source": [
    "num1 = complex(input(\"Enter the first complex number (e.g., 3+4j): \"))\n",
    "num2 = complex(input(\"Enter the second complex number: \"))\n",
    "\n",
    "result = num1 + num2\n",
    "print(f\"The sum of the two complex numbers is: {result}\")\n"
   ]
  },
  {
   "cell_type": "code",
   "execution_count": 21,
   "id": "969e22d5-1932-4c61-8b08-3654d587148e",
   "metadata": {},
   "outputs": [
    {
     "name": "stdin",
     "output_type": "stream",
     "text": [
      "Enter coefficient a:  12\n",
      "Enter coefficient b:  34\n",
      "Enter coefficient c:  65\n"
     ]
    },
    {
     "name": "stdout",
     "output_type": "stream",
     "text": [
      "The roots are Complex: -1.4166666666666667 ± 1.8465433171800283i\n"
     ]
    }
   ],
   "source": [
    "import math\n",
    "\n",
    "a = float(input(\"Enter coefficient a: \"))\n",
    "b = float(input(\"Enter coefficient b: \"))\n",
    "c = float(input(\"Enter coefficient c: \"))\n",
    "\n",
    "discriminant = b**2 - 4*a*c\n",
    "\n",
    "if discriminant > 0:\n",
    "    root1 = (-b + math.sqrt(discriminant)) / (2*a)\n",
    "    root2 = (-b - math.sqrt(discriminant)) / (2*a)\n",
    "    print(f\"The roots are Real and Distinct: {root1}, {root2}\")\n",
    "elif discriminant == 0:\n",
    "    root = -b / (2*a)\n",
    "    print(f\"The roots are Real and Equal: {root}\")\n",
    "else:\n",
    "    real_part = -b / (2*a)\n",
    "    imag_part = math.sqrt(-discriminant) / (2*a)\n",
    "    print(f\"The roots are Complex: {real_part} ± {imag_part}i\")\n"
   ]
  },
  {
   "cell_type": "code",
   "execution_count": 23,
   "id": "6e4b826f-e8b3-4690-ac05-80e05648a40b",
   "metadata": {},
   "outputs": [
    {
     "name": "stdin",
     "output_type": "stream",
     "text": [
      "Enter a day number (1-7):  12\n"
     ]
    },
    {
     "name": "stdout",
     "output_type": "stream",
     "text": [
      "Invalid day number!\n"
     ]
    }
   ],
   "source": [
    "day = int(input(\"Enter a day number (1-7): \"))\n",
    "\n",
    "days = {\n",
    "    1: \"Monday\",\n",
    "    2: \"Tuesday\",\n",
    "    3: \"Wednesday\",\n",
    "    4: \"Thursday\",\n",
    "    5: \"Friday\",\n",
    "    6: \"Saturday\",\n",
    "    7: \"Sunday\"\n",
    "}\n",
    "\n",
    "print(days.get(day, \"Invalid day number!\"))\n"
   ]
  },
  {
   "cell_type": "code",
   "execution_count": null,
   "id": "0f8be2f7-32ca-45ba-8f9f-8ad56063b7ea",
   "metadata": {},
   "outputs": [
    {
     "name": "stdout",
     "output_type": "stream",
     "text": [
      "1. Circle\n",
      "2. Square\n",
      "3. Rectangle\n",
      "4. Triangle\n",
      "5. Exit\n"
     ]
    },
    {
     "name": "stdin",
     "output_type": "stream",
     "text": [
      "Choose an option:  12\n"
     ]
    },
    {
     "name": "stdout",
     "output_type": "stream",
     "text": [
      "Invalid choice! Try again.\n",
      "1. Circle\n",
      "2. Square\n",
      "3. Rectangle\n",
      "4. Triangle\n",
      "5. Exit\n"
     ]
    },
    {
     "name": "stdin",
     "output_type": "stream",
     "text": [
      "Choose an option:  34\n"
     ]
    },
    {
     "name": "stdout",
     "output_type": "stream",
     "text": [
      "Invalid choice! Try again.\n",
      "1. Circle\n",
      "2. Square\n",
      "3. Rectangle\n",
      "4. Triangle\n",
      "5. Exit\n"
     ]
    },
    {
     "name": "stdin",
     "output_type": "stream",
     "text": [
      "Choose an option:  65\n"
     ]
    },
    {
     "name": "stdout",
     "output_type": "stream",
     "text": [
      "Invalid choice! Try again.\n",
      "1. Circle\n",
      "2. Square\n",
      "3. Rectangle\n",
      "4. Triangle\n",
      "5. Exit\n"
     ]
    },
    {
     "name": "stdin",
     "output_type": "stream",
     "text": [
      "Choose an option:  45\n"
     ]
    },
    {
     "name": "stdout",
     "output_type": "stream",
     "text": [
      "Invalid choice! Try again.\n",
      "1. Circle\n",
      "2. Square\n",
      "3. Rectangle\n",
      "4. Triangle\n",
      "5. Exit\n"
     ]
    },
    {
     "name": "stdin",
     "output_type": "stream",
     "text": [
      "Choose an option:  4\n",
      "Enter the base:  4\n",
      "Enter the height:  4\n"
     ]
    },
    {
     "name": "stdout",
     "output_type": "stream",
     "text": [
      "Area of Triangle: 8.0\n",
      "1. Circle\n",
      "2. Square\n",
      "3. Rectangle\n",
      "4. Triangle\n",
      "5. Exit\n"
     ]
    },
    {
     "name": "stdin",
     "output_type": "stream",
     "text": [
      "Choose an option:  4\n",
      "Enter the base:  4\n",
      "Enter the height:  4\n"
     ]
    },
    {
     "name": "stdout",
     "output_type": "stream",
     "text": [
      "Area of Triangle: 8.0\n",
      "1. Circle\n",
      "2. Square\n",
      "3. Rectangle\n",
      "4. Triangle\n",
      "5. Exit\n"
     ]
    },
    {
     "name": "stdin",
     "output_type": "stream",
     "text": [
      "Choose an option:  4\n",
      "Enter the base:  4\n",
      "Enter the height:  4\n"
     ]
    },
    {
     "name": "stdout",
     "output_type": "stream",
     "text": [
      "Area of Triangle: 8.0\n",
      "1. Circle\n",
      "2. Square\n",
      "3. Rectangle\n",
      "4. Triangle\n",
      "5. Exit\n"
     ]
    },
    {
     "name": "stdin",
     "output_type": "stream",
     "text": [
      "Choose an option:  4\n",
      "Enter the base:  4\n",
      "Enter the height:  4\n"
     ]
    },
    {
     "name": "stdout",
     "output_type": "stream",
     "text": [
      "Area of Triangle: 8.0\n",
      "1. Circle\n",
      "2. Square\n",
      "3. Rectangle\n",
      "4. Triangle\n",
      "5. Exit\n"
     ]
    }
   ],
   "source": [
    "import math\n",
    "\n",
    "def menu():\n",
    "    print(\"1. Circle\")\n",
    "    print(\"2. Square\")\n",
    "    print(\"3. Rectangle\")\n",
    "    print(\"4. Triangle\")\n",
    "    print(\"5. Exit\")\n",
    "\n",
    "while True:\n",
    "    menu()\n",
    "    choice = int(input(\"Choose an option: \"))\n",
    "    \n",
    "    if choice == 1:\n",
    "        radius = float(input(\"Enter the radius: \"))\n",
    "        print(f\"Area of Circle: {math.pi * radius**2}\")\n",
    "    elif choice == 2:\n",
    "        side = float(input(\"Enter the side length: \"))\n",
    "        print(f\"Area of Square: {side**2}\")\n",
    "    elif choice == 3:\n",
    "        length = float(input(\"Enter the length: \"))\n",
    "        width = float(input(\"Enter the width: \"))\n",
    "        print(f\"Area of Rectangle: {length * width}\")\n",
    "    elif choice == 4:\n",
    "        base = float(input(\"Enter the base: \"))\n",
    "        height = float(input(\"Enter the height: \"))\n",
    "        print(f\"Area of Triangle: {0.5 * base * height}\")\n",
    "    elif choice == 5:\n",
    "        print(\"Exiting program.\")\n",
    "        break\n",
    "    else:\n",
    "        print(\"Invalid choice! Try again.\")\n"
   ]
  },
  {
   "cell_type": "code",
   "execution_count": null,
   "id": "a0f31f50-a784-4f15-a0b2-96f6d1325917",
   "metadata": {},
   "outputs": [],
   "source": []
  }
 ],
 "metadata": {
  "kernelspec": {
   "display_name": "Python [conda env:base] *",
   "language": "python",
   "name": "conda-base-py"
  },
  "language_info": {
   "codemirror_mode": {
    "name": "ipython",
    "version": 3
   },
   "file_extension": ".py",
   "mimetype": "text/x-python",
   "name": "python",
   "nbconvert_exporter": "python",
   "pygments_lexer": "ipython3",
   "version": "3.12.7"
  }
 },
 "nbformat": 4,
 "nbformat_minor": 5
}
