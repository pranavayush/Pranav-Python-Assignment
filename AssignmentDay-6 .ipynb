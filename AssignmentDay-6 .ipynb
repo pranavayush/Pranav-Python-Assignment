{
 "cells": [
  {
   "cell_type": "code",
   "execution_count": 1,
   "id": "57b14be6-c64f-493a-8ddd-ce2da7d216cd",
   "metadata": {},
   "outputs": [
    {
     "name": "stdin",
     "output_type": "stream",
     "text": [
      "Enter a number:  12\n"
     ]
    },
    {
     "name": "stdout",
     "output_type": "stream",
     "text": [
      "The factorial of 12 is 479001600\n"
     ]
    }
   ],
   "source": [
    "def factorial(n):\n",
    "    if n == 0 or n == 1:\n",
    "        return 1\n",
    "    else:\n",
    "        return n * factorial(n - 1)\n",
    "\n",
    "num = int(input(\"Enter a number: \"))\n",
    "print(f\"The factorial of {num} is {factorial(num)}\")\n"
   ]
  },
  {
   "cell_type": "code",
   "execution_count": 3,
   "id": "8b5207b1-e49d-4e1b-b76c-c438e92a8b37",
   "metadata": {},
   "outputs": [
    {
     "name": "stdin",
     "output_type": "stream",
     "text": [
      "Enter first number:  12\n",
      "Enter second number:  12\n",
      "Enter third number:  23\n"
     ]
    },
    {
     "name": "stdout",
     "output_type": "stream",
     "text": [
      "The average of the three numbers is 15.666666666666666\n"
     ]
    }
   ],
   "source": [
    "def average(a, b, c):\n",
    "    return (a + b + c) / 3\n",
    "\n",
    "num1 = float(input(\"Enter first number: \"))\n",
    "num2 = float(input(\"Enter second number: \"))\n",
    "num3 = float(input(\"Enter third number: \"))\n",
    "print(f\"The average of the three numbers is {average(num1, num2, num3)}\")\n"
   ]
  },
  {
   "cell_type": "code",
   "execution_count": 5,
   "id": "c444feaa-cc4a-4e11-b3c8-feb682c11df1",
   "metadata": {},
   "outputs": [
    {
     "name": "stdin",
     "output_type": "stream",
     "text": [
      "Enter marks for subject 1:  12\n",
      "Enter marks for subject 2:  12\n",
      "Enter marks for subject 3:  12\n",
      "Enter marks for subject 4:  12\n",
      "Enter marks for subject 5:  12\n"
     ]
    },
    {
     "name": "stdout",
     "output_type": "stream",
     "text": [
      "Total Marks: 60.0, Percentage: 12.00%\n"
     ]
    }
   ],
   "source": [
    "def calculate_results(marks):\n",
    "    total = sum(marks)\n",
    "    percentage = (total / (len(marks) * 100)) * 100\n",
    "    return total, percentage\n",
    "\n",
    "marks = [float(input(f\"Enter marks for subject {i + 1}: \")) for i in range(5)]\n",
    "total, percentage = calculate_results(marks)\n",
    "print(f\"Total Marks: {total}, Percentage: {percentage:.2f}%\")\n"
   ]
  },
  {
   "cell_type": "code",
   "execution_count": 7,
   "id": "ced7bbef-f96b-4a0c-bbac-0708ace71d59",
   "metadata": {},
   "outputs": [
    {
     "name": "stdin",
     "output_type": "stream",
     "text": [
      "Enter the radius of the circle:  23\n"
     ]
    },
    {
     "name": "stdout",
     "output_type": "stream",
     "text": [
      "The area of the circle is 1661.90\n"
     ]
    }
   ],
   "source": [
    "import math\n",
    "\n",
    "def area_of_circle(radius):\n",
    "    return math.pi * radius ** 2\n",
    "\n",
    "radius = float(input(\"Enter the radius of the circle: \"))\n",
    "print(f\"The area of the circle is {area_of_circle(radius):.2f}\")\n"
   ]
  },
  {
   "cell_type": "code",
   "execution_count": 9,
   "id": "31c1bc36-7600-4a8c-a91b-516b5e415b62",
   "metadata": {},
   "outputs": [
    {
     "name": "stdin",
     "output_type": "stream",
     "text": [
      "Enter the length of the rectangle:  4\n",
      "Enter the width of the rectangle:  5\n"
     ]
    },
    {
     "name": "stdout",
     "output_type": "stream",
     "text": [
      "The area of the rectangle is 20.0\n"
     ]
    }
   ],
   "source": [
    "def area_of_rectangle(length, width):\n",
    "    return length * width\n",
    "\n",
    "length = float(input(\"Enter the length of the rectangle: \"))\n",
    "width = float(input(\"Enter the width of the rectangle: \"))\n",
    "print(f\"The area of the rectangle is {area_of_rectangle(length, width)}\")\n"
   ]
  },
  {
   "cell_type": "code",
   "execution_count": 11,
   "id": "51575eeb-cb34-452c-b5e8-7f7579e2991c",
   "metadata": {},
   "outputs": [
    {
     "name": "stdin",
     "output_type": "stream",
     "text": [
      "Enter the radius of the circle:  4\n"
     ]
    },
    {
     "name": "stdout",
     "output_type": "stream",
     "text": [
      "Area: 50.27, Circumference: 25.13\n"
     ]
    }
   ],
   "source": [
    "import math\n",
    "\n",
    "def circle_properties(radius):\n",
    "    area = math.pi * radius ** 2\n",
    "    circumference = 2 * math.pi * radius\n",
    "    return area, circumference\n",
    "\n",
    "radius = float(input(\"Enter the radius of the circle: \"))\n",
    "area, circumference = circle_properties(radius)\n",
    "print(f\"Area: {area:.2f}, Circumference: {circumference:.2f}\")\n"
   ]
  },
  {
   "cell_type": "code",
   "execution_count": 13,
   "id": "3fead4b2-64ab-432c-baf4-187308433b88",
   "metadata": {},
   "outputs": [
    {
     "name": "stdin",
     "output_type": "stream",
     "text": [
      "Enter side a:  2\n",
      "Enter side b:  3\n",
      "Enter side c:  4\n"
     ]
    },
    {
     "name": "stdout",
     "output_type": "stream",
     "text": [
      "The area of the scalene triangle is 2.90\n"
     ]
    }
   ],
   "source": [
    "import math\n",
    "\n",
    "def area_of_scalene_triangle(a, b, c):\n",
    "    s = (a + b + c) / 2  # semi-perimeter\n",
    "    area = math.sqrt(s * (s - a) * (s - b) * (s - c))\n",
    "    return area\n",
    "\n",
    "a = float(input(\"Enter side a: \"))\n",
    "b = float(input(\"Enter side b: \"))\n",
    "c = float(input(\"Enter side c: \"))\n",
    "print(f\"The area of the scalene triangle is {area_of_scalene_triangle(a, b, c):.2f}\")\n"
   ]
  },
  {
   "cell_type": "code",
   "execution_count": 15,
   "id": "fd527f73-31b6-4eba-83ff-2c0c0eaa0946",
   "metadata": {},
   "outputs": [
    {
     "name": "stdin",
     "output_type": "stream",
     "text": [
      "Enter the base of the triangle:  4\n",
      "Enter the height of the triangle:  5\n"
     ]
    },
    {
     "name": "stdout",
     "output_type": "stream",
     "text": [
      "The area of the right-angle triangle is 10.00\n"
     ]
    }
   ],
   "source": [
    "def area_of_right_triangle(base, height):\n",
    "    return 0.5 * base * height\n",
    "\n",
    "base = float(input(\"Enter the base of the triangle: \"))\n",
    "height = float(input(\"Enter the height of the triangle: \"))\n",
    "print(f\"The area of the right-angle triangle is {area_of_right_triangle(base, height):.2f}\")\n"
   ]
  },
  {
   "cell_type": "code",
   "execution_count": 17,
   "id": "695ef627-9477-433b-9e9e-b4c89a75e550",
   "metadata": {},
   "outputs": [
    {
     "name": "stdin",
     "output_type": "stream",
     "text": [
      "Enter the side length of the cube:  2\n"
     ]
    },
    {
     "name": "stdout",
     "output_type": "stream",
     "text": [
      "Volume: 8.0, Surface Area: 24.0\n"
     ]
    }
   ],
   "source": [
    "def cube_properties(side):\n",
    "    volume = side ** 3\n",
    "    surface_area = 6 * (side ** 2)\n",
    "    return volume, surface_area\n",
    "\n",
    "side = float(input(\"Enter the side length of the cube: \"))\n",
    "volume, surface_area = cube_properties(side)\n",
    "print(f\"Volume: {volume}, Surface Area: {surface_area}\")\n"
   ]
  },
  {
   "cell_type": "code",
   "execution_count": null,
   "id": "31dc9f52-e40e-4a64-829a-7883816a5349",
   "metadata": {},
   "outputs": [],
   "source": []
  }
 ],
 "metadata": {
  "kernelspec": {
   "display_name": "Python [conda env:base] *",
   "language": "python",
   "name": "conda-base-py"
  },
  "language_info": {
   "codemirror_mode": {
    "name": "ipython",
    "version": 3
   },
   "file_extension": ".py",
   "mimetype": "text/x-python",
   "name": "python",
   "nbconvert_exporter": "python",
   "pygments_lexer": "ipython3",
   "version": "3.12.7"
  }
 },
 "nbformat": 4,
 "nbformat_minor": 5
}
