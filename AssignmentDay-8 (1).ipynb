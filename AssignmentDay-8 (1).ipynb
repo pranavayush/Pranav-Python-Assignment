{
 "cells": [
  {
   "cell_type": "code",
   "execution_count": 3,
   "id": "ab24acf1-73f9-49e8-8b41-bfb396172146",
   "metadata": {},
   "outputs": [],
   "source": [
    "# mathutils.py\n",
    "\n",
    "def factorial(n):\n",
    "    if n == 0 or n == 1:\n",
    "        return 1\n",
    "    else:\n",
    "        result = 1\n",
    "        for i in range(1, n + 1):\n",
    "            result *= i\n",
    "        return result\n",
    "\n",
    "def is_prime(n):\n",
    "    if n <= 1:\n",
    "        return False\n",
    "    for i in range(2, int(n**0.5) + 1):\n",
    "        if n % i == 0:\n",
    "            return False\n",
    "    return True\n"
   ]
  },
  {
   "cell_type": "code",
   "execution_count": 5,
   "id": "166bc3c3-e033-40fa-b9dc-249ab8a4e59d",
   "metadata": {},
   "outputs": [],
   "source": [
    "# string_operations.py\n",
    "\n",
    "def reverse_string(s):\n",
    "    return s[::-1]\n",
    "\n",
    "def is_palindrome(s):\n",
    "    return s == s[::-1]\n"
   ]
  },
  {
   "cell_type": "code",
   "execution_count": 7,
   "id": "c4a2c9ba-22cc-46d0-b825-2398fde49b86",
   "metadata": {},
   "outputs": [],
   "source": [
    "# case_operations.py\n",
    "\n",
    "def to_uppercase(s):\n",
    "    return s.upper()\n",
    "\n",
    "def to_lowercase(s):\n",
    "    return s.lower()\n"
   ]
  },
  {
   "cell_type": "code",
   "execution_count": 9,
   "id": "81f890fe-0492-42b8-8730-1f6556fff873",
   "metadata": {},
   "outputs": [
    {
     "name": "stdout",
     "output_type": "stream",
     "text": [
      "Files in directory: []\n"
     ]
    }
   ],
   "source": [
    "import os\n",
    "\n",
    "# Create a directory\n",
    "os.mkdir(\"my_directory\")\n",
    "\n",
    "# List all files in the directory\n",
    "print(\"Files in directory:\", os.listdir(\"my_directory\"))\n",
    "\n",
    "# Delete the directory\n",
    "os.rmdir(\"my_directory\")\n"
   ]
  },
  {
   "cell_type": "code",
   "execution_count": 11,
   "id": "f861d0b3-0cfb-4a66-88c6-a901c515c285",
   "metadata": {},
   "outputs": [
    {
     "name": "stdout",
     "output_type": "stream",
     "text": [
      "[64, 30, 94, 44, 87, 37, 44, 16, 14, 61]\n"
     ]
    }
   ],
   "source": [
    "import random\n",
    "\n",
    "# Generate 10 random numbers between 1 and 100\n",
    "random_numbers = [random.randint(1, 100) for _ in range(10)]\n",
    "print(random_numbers)\n"
   ]
  },
  {
   "cell_type": "code",
   "execution_count": 13,
   "id": "728f6dca-31e0-4c1d-8517-736fcd3ac98a",
   "metadata": {},
   "outputs": [
    {
     "name": "stdout",
     "output_type": "stream",
     "text": [
      "Dice roll result: 1\n"
     ]
    }
   ],
   "source": [
    "import random\n",
    "\n",
    "# Simulate rolling a dice\n",
    "dice_roll = random.randint(1, 6)\n",
    "print(f\"Dice roll result: {dice_roll}\")\n"
   ]
  },
  {
   "cell_type": "code",
   "execution_count": 15,
   "id": "786a4b56-a684-4048-b631-c7c472e6129f",
   "metadata": {},
   "outputs": [],
   "source": [
    "# arithmetic.py\n",
    "\n",
    "def add(a, b):\n",
    "    return a + b\n",
    "\n",
    "def subtract(a, b):\n",
    "    return a - b\n",
    "\n",
    "def multiply(a, b):\n",
    "    return a * b\n",
    "\n",
    "def divide(a, b):\n",
    "    if b != 0:\n",
    "        return a / b\n",
    "    else:\n",
    "        return \"Division by zero is not allowed\"\n"
   ]
  },
  {
   "cell_type": "code",
   "execution_count": 17,
   "id": "c8b49f8f-89ac-4ae8-ad06-2dd8e0e75ef1",
   "metadata": {},
   "outputs": [],
   "source": [
    "# geometry.py\n",
    "\n",
    "import math\n",
    "\n",
    "def area_of_circle(radius):\n",
    "    return math.pi * radius**2\n",
    "\n",
    "def area_of_rectangle(length, width):\n",
    "    return length * width\n"
   ]
  },
  {
   "cell_type": "code",
   "execution_count": 19,
   "id": "030526ab-8c90-4249-a6de-7b9ed12ef573",
   "metadata": {},
   "outputs": [
    {
     "name": "stdout",
     "output_type": "stream",
     "text": [
      "Python Version: 3.12.7 | packaged by Anaconda, Inc. | (main, Oct  4 2024, 13:17:27) [MSC v.1929 64 bit (AMD64)]\n",
      "Platform: win32\n"
     ]
    }
   ],
   "source": [
    "import sys\n",
    "\n",
    "# Print Python version and platform details\n",
    "print(f\"Python Version: {sys.version}\")\n",
    "print(f\"Platform: {sys.platform}\")\n"
   ]
  },
  {
   "cell_type": "code",
   "execution_count": 21,
   "id": "b5633af7-a849-4976-b47a-146e054f6dae",
   "metadata": {},
   "outputs": [
    {
     "ename": "FileNotFoundError",
     "evalue": "[Errno 2] No such file or directory: 'example.txt'",
     "output_type": "error",
     "traceback": [
      "\u001b[1;31m---------------------------------------------------------------------------\u001b[0m",
      "\u001b[1;31mFileNotFoundError\u001b[0m                         Traceback (most recent call last)",
      "Cell \u001b[1;32mIn[21], line 15\u001b[0m\n\u001b[0;32m     13\u001b[0m \u001b[38;5;66;03m# Example usage\u001b[39;00m\n\u001b[0;32m     14\u001b[0m filename \u001b[38;5;241m=\u001b[39m \u001b[38;5;124m\"\u001b[39m\u001b[38;5;124mexample.txt\u001b[39m\u001b[38;5;124m\"\u001b[39m\n\u001b[1;32m---> 15\u001b[0m \u001b[38;5;28mprint\u001b[39m(count_word_frequency(filename))\n",
      "Cell \u001b[1;32mIn[21], line 2\u001b[0m, in \u001b[0;36mcount_word_frequency\u001b[1;34m(filename)\u001b[0m\n\u001b[0;32m      1\u001b[0m \u001b[38;5;28;01mdef\u001b[39;00m \u001b[38;5;21mcount_word_frequency\u001b[39m(filename):\n\u001b[1;32m----> 2\u001b[0m     \u001b[38;5;28;01mwith\u001b[39;00m \u001b[38;5;28mopen\u001b[39m(filename, \u001b[38;5;124m'\u001b[39m\u001b[38;5;124mr\u001b[39m\u001b[38;5;124m'\u001b[39m) \u001b[38;5;28;01mas\u001b[39;00m file:\n\u001b[0;32m      3\u001b[0m         words \u001b[38;5;241m=\u001b[39m file\u001b[38;5;241m.\u001b[39mread()\u001b[38;5;241m.\u001b[39msplit()\n\u001b[0;32m      4\u001b[0m         word_count \u001b[38;5;241m=\u001b[39m {}\n",
      "File \u001b[1;32m~\\anaconda3\\Lib\\site-packages\\IPython\\core\\interactiveshell.py:324\u001b[0m, in \u001b[0;36m_modified_open\u001b[1;34m(file, *args, **kwargs)\u001b[0m\n\u001b[0;32m    317\u001b[0m \u001b[38;5;28;01mif\u001b[39;00m file \u001b[38;5;129;01min\u001b[39;00m {\u001b[38;5;241m0\u001b[39m, \u001b[38;5;241m1\u001b[39m, \u001b[38;5;241m2\u001b[39m}:\n\u001b[0;32m    318\u001b[0m     \u001b[38;5;28;01mraise\u001b[39;00m \u001b[38;5;167;01mValueError\u001b[39;00m(\n\u001b[0;32m    319\u001b[0m         \u001b[38;5;124mf\u001b[39m\u001b[38;5;124m\"\u001b[39m\u001b[38;5;124mIPython won\u001b[39m\u001b[38;5;124m'\u001b[39m\u001b[38;5;124mt let you open fd=\u001b[39m\u001b[38;5;132;01m{\u001b[39;00mfile\u001b[38;5;132;01m}\u001b[39;00m\u001b[38;5;124m by default \u001b[39m\u001b[38;5;124m\"\u001b[39m\n\u001b[0;32m    320\u001b[0m         \u001b[38;5;124m\"\u001b[39m\u001b[38;5;124mas it is likely to crash IPython. If you know what you are doing, \u001b[39m\u001b[38;5;124m\"\u001b[39m\n\u001b[0;32m    321\u001b[0m         \u001b[38;5;124m\"\u001b[39m\u001b[38;5;124myou can use builtins\u001b[39m\u001b[38;5;124m'\u001b[39m\u001b[38;5;124m open.\u001b[39m\u001b[38;5;124m\"\u001b[39m\n\u001b[0;32m    322\u001b[0m     )\n\u001b[1;32m--> 324\u001b[0m \u001b[38;5;28;01mreturn\u001b[39;00m io_open(file, \u001b[38;5;241m*\u001b[39margs, \u001b[38;5;241m*\u001b[39m\u001b[38;5;241m*\u001b[39mkwargs)\n",
      "\u001b[1;31mFileNotFoundError\u001b[0m: [Errno 2] No such file or directory: 'example.txt'"
     ]
    }
   ],
   "source": [
    "def count_word_frequency(filename):\n",
    "    with open(filename, 'r') as file:\n",
    "        words = file.read().split()\n",
    "        word_count = {}\n",
    "        for word in words:\n",
    "            word = word.lower()\n",
    "            if word in word_count:\n",
    "                word_count[word] += 1\n",
    "            else:\n",
    "                word_count[word] = 1\n",
    "        return word_count\n",
    "\n",
    "# Example usage\n",
    "filename = \"example.txt\"\n",
    "print(count_word_frequency(filename))\n"
   ]
  },
  {
   "cell_type": "code",
   "execution_count": 23,
   "id": "1bca35fd-3407-4e0a-9024-82cf4b684792",
   "metadata": {},
   "outputs": [
    {
     "name": "stdout",
     "output_type": "stream",
     "text": [
      "['BPF', 'LOG4', 'NV_MAGICCONST', 'RECIP_BPF', 'Random', 'SG_MAGICCONST', 'SystemRandom', 'TWOPI', '_ONE', '_Sequence', '__all__', '__builtins__', '__cached__', '__doc__', '__file__', '__loader__', '__name__', '__package__', '__spec__', '_accumulate', '_acos', '_bisect', '_ceil', '_cos', '_e', '_exp', '_fabs', '_floor', '_index', '_inst', '_isfinite', '_lgamma', '_log', '_log2', '_os', '_pi', '_random', '_repeat', '_sha512', '_sin', '_sqrt', '_test', '_test_generator', '_urandom', '_warn', 'betavariate', 'binomialvariate', 'choice', 'choices', 'expovariate', 'gammavariate', 'gauss', 'getrandbits', 'getstate', 'lognormvariate', 'normalvariate', 'paretovariate', 'randbytes', 'randint', 'random', 'randrange', 'sample', 'seed', 'setstate', 'shuffle', 'triangular', 'uniform', 'vonmisesvariate', 'weibullvariate']\n"
     ]
    }
   ],
   "source": [
    "import random\n",
    "print(dir(random))\n"
   ]
  },
  {
   "cell_type": "code",
   "execution_count": 25,
   "id": "6b71c4f1-2225-4c84-ba06-0a45a932003d",
   "metadata": {},
   "outputs": [
    {
     "ename": "ModuleNotFoundError",
     "evalue": "No module named 'mathutils'",
     "output_type": "error",
     "traceback": [
      "\u001b[1;31m---------------------------------------------------------------------------\u001b[0m",
      "\u001b[1;31mModuleNotFoundError\u001b[0m                       Traceback (most recent call last)",
      "Cell \u001b[1;32mIn[25], line 1\u001b[0m\n\u001b[1;32m----> 1\u001b[0m \u001b[38;5;28;01mimport\u001b[39;00m \u001b[38;5;21;01mmathutils\u001b[39;00m\n\u001b[0;32m      2\u001b[0m \u001b[38;5;28mprint\u001b[39m(\u001b[38;5;28mdir\u001b[39m(mathutils))\n",
      "\u001b[1;31mModuleNotFoundError\u001b[0m: No module named 'mathutils'"
     ]
    }
   ],
   "source": [
    "import mathutils\n",
    "print(dir(mathutils))\n"
   ]
  },
  {
   "cell_type": "code",
   "execution_count": 27,
   "id": "9494b24b-cf90-48c0-befa-b53eaa2db995",
   "metadata": {},
   "outputs": [
    {
     "name": "stdout",
     "output_type": "stream",
     "text": [
      "Current date and time: 2025-01-17 01:38:26.663207\n"
     ]
    }
   ],
   "source": [
    "from datetime import datetime\n",
    "\n",
    "# Get current date and time\n",
    "now = datetime.now()\n",
    "print(f\"Current date and time: {now}\")\n"
   ]
  },
  {
   "cell_type": "code",
   "execution_count": 29,
   "id": "963436a0-8e32-4a36-ad43-fe6ba236217d",
   "metadata": {},
   "outputs": [
    {
     "name": "stdout",
     "output_type": "stream",
     "text": [
      "Number of days between 2023-01-01 00:00:00 and 2023-12-31 00:00:00: 364 days\n"
     ]
    }
   ],
   "source": [
    "from datetime import datetime\n",
    "\n",
    "# Define two dates\n",
    "date1 = datetime(2023, 1, 1)\n",
    "date2 = datetime(2023, 12, 31)\n",
    "\n",
    "# Calculate the difference in days\n",
    "difference = (date2 - date1).days\n",
    "print(f\"Number of days between {date1} and {date2}: {difference} days\")\n"
   ]
  },
  {
   "cell_type": "code",
   "execution_count": 31,
   "id": "a6ddccfa-a916-4e1c-af0d-4cca3ca7aa99",
   "metadata": {},
   "outputs": [
    {
     "ename": "ImportError",
     "evalue": "attempted relative import with no known parent package",
     "output_type": "error",
     "traceback": [
      "\u001b[1;31m---------------------------------------------------------------------------\u001b[0m",
      "\u001b[1;31mImportError\u001b[0m                               Traceback (most recent call last)",
      "Cell \u001b[1;32mIn[31], line 1\u001b[0m\n\u001b[1;32m----> 1\u001b[0m \u001b[38;5;28;01mfrom\u001b[39;00m \u001b[38;5;21;01m.\u001b[39;00m\u001b[38;5;21;01mmath_operations\u001b[39;00m \u001b[38;5;28;01mimport\u001b[39;00m add, subtract\n\u001b[0;32m      2\u001b[0m \u001b[38;5;28;01mfrom\u001b[39;00m \u001b[38;5;21;01m.\u001b[39;00m\u001b[38;5;21;01mstring_operations\u001b[39;00m \u001b[38;5;28;01mimport\u001b[39;00m reverse_string, is_palindrome\n\u001b[0;32m      3\u001b[0m \u001b[38;5;28;01mfrom\u001b[39;00m \u001b[38;5;21;01m.\u001b[39;00m\u001b[38;5;21;01mdate_operations\u001b[39;00m \u001b[38;5;28;01mimport\u001b[39;00m current_date, calculate_days_between\n",
      "\u001b[1;31mImportError\u001b[0m: attempted relative import with no known parent package"
     ]
    }
   ],
   "source": [
    "from .math_operations import add, subtract\n",
    "from .string_operations import reverse_string, is_palindrome\n",
    "from .date_operations import current_date, calculate_days_between\n"
   ]
  },
  {
   "cell_type": "code",
   "execution_count": 33,
   "id": "78bbf436-4952-40b7-9381-53c1488d6274",
   "metadata": {},
   "outputs": [],
   "source": [
    "# string_operations.py\n",
    "\n",
    "def reverse_string(s):\n",
    "    return s[::-1]\n",
    "\n",
    "def is_palindrome(s):\n",
    "    return s == s[::-1]\n"
   ]
  },
  {
   "cell_type": "code",
   "execution_count": null,
   "id": "95ac163a-d03b-4f8f-a4f6-044f6c890296",
   "metadata": {},
   "outputs": [],
   "source": []
  }
 ],
 "metadata": {
  "kernelspec": {
   "display_name": "Python [conda env:base] *",
   "language": "python",
   "name": "conda-base-py"
  },
  "language_info": {
   "codemirror_mode": {
    "name": "ipython",
    "version": 3
   },
   "file_extension": ".py",
   "mimetype": "text/x-python",
   "name": "python",
   "nbconvert_exporter": "python",
   "pygments_lexer": "ipython3",
   "version": "3.12.7"
  }
 },
 "nbformat": 4,
 "nbformat_minor": 5
}
