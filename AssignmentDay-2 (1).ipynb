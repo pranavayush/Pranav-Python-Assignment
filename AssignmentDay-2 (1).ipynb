{
 "cells": [
  {
   "cell_type": "code",
   "execution_count": 1,
   "id": "aaf7decf-7e09-4b3a-983a-e03ee255c58d",
   "metadata": {},
   "outputs": [
    {
     "name": "stdin",
     "output_type": "stream",
     "text": [
      "Enter the length of the first diagonal:  23\n",
      "Enter the length of the second diagonal:  45\n"
     ]
    },
    {
     "name": "stdout",
     "output_type": "stream",
     "text": [
      "Area of the rhombus: 517.5\n"
     ]
    }
   ],
   "source": [
    "diagonal1 = float(input(\"Enter the length of the first diagonal: \"))\n",
    "diagonal2 = float(input(\"Enter the length of the second diagonal: \"))\n",
    "area = (diagonal1 * diagonal2) / 2\n",
    "print(f\"Area of the rhombus: {area}\")"
   ]
  },
  {
   "cell_type": "code",
   "execution_count": 3,
   "id": "8544e17a-b173-46a5-8e0e-87b4a49cdb12",
   "metadata": {},
   "outputs": [
    {
     "name": "stdin",
     "output_type": "stream",
     "text": [
      "Enter the base of the parallelogram:  1\n",
      "Enter the height of the parallelogram:  2\n"
     ]
    },
    {
     "name": "stdout",
     "output_type": "stream",
     "text": [
      "Area of the parallelogram: 2.0\n"
     ]
    }
   ],
   "source": [
    "base = float(input(\"Enter the base of the parallelogram: \"))\n",
    "height = float(input(\"Enter the height of the parallelogram: \"))\n",
    "area = base * height\n",
    "print(f\"Area of the parallelogram: {area}\")"
   ]
  },
  {
   "cell_type": "code",
   "execution_count": 5,
   "id": "e70952c8-6a40-4497-a9ee-df6f12477047",
   "metadata": {},
   "outputs": [
    {
     "name": "stdin",
     "output_type": "stream",
     "text": [
      "Enter the side length of the cube:  23\n"
     ]
    },
    {
     "name": "stdout",
     "output_type": "stream",
     "text": [
      "Volume of the cube: 12167.0\n",
      "Surface area of the cube: 3174.0\n"
     ]
    }
   ],
   "source": [
    "side = float(input(\"Enter the side length of the cube: \"))\n",
    "volume = side ** 3\n",
    "surface_area = 6 * (side ** 2)\n",
    "print(f\"Volume of the cube: {volume}\")\n",
    "print(f\"Surface area of the cube: {surface_area}\")"
   ]
  },
  {
   "cell_type": "code",
   "execution_count": 7,
   "id": "472e7519-dc81-4f6d-9f76-48199888db0a",
   "metadata": {},
   "outputs": [
    {
     "name": "stdin",
     "output_type": "stream",
     "text": [
      "Enter the length of the cuboid:  23\n",
      "Enter the width of the cuboid:  45\n",
      "Enter the height of the cuboid:  34\n"
     ]
    },
    {
     "name": "stdout",
     "output_type": "stream",
     "text": [
      "Volume of the cuboid: 35190.0\n",
      "Surface area of the cuboid: 6694.0\n"
     ]
    }
   ],
   "source": [
    "length = float(input(\"Enter the length of the cuboid: \"))\n",
    "width = float(input(\"Enter the width of the cuboid: \"))\n",
    "height = float(input(\"Enter the height of the cuboid: \"))\n",
    "volume = length * width * height\n",
    "surface_area = 2 * (length * width + width * height + height * length)\n",
    "print(f\"Volume of the cuboid: {volume}\")\n",
    "print(f\"Surface area of the cuboid: {surface_area}\")\n"
   ]
  },
  {
   "cell_type": "code",
   "execution_count": 9,
   "id": "107ef61f-ef76-4445-ba09-ac8b245f79fc",
   "metadata": {},
   "outputs": [
    {
     "name": "stdin",
     "output_type": "stream",
     "text": [
      "Enter the radius of the cone:  23\n",
      "Enter the height of the cone:  45\n",
      "Enter the slant height of the cone:  67\n"
     ]
    },
    {
     "name": "stdout",
     "output_type": "stream",
     "text": [
      "Volume of the cone: 24928.516649999994\n",
      "Surface area of the cone: 6503.0913\n"
     ]
    }
   ],
   "source": [
    "radius = float(input(\"Enter the radius of the cone: \"))\n",
    "height = float(input(\"Enter the height of the cone: \"))\n",
    "slant_height = float(input(\"Enter the slant height of the cone: \"))\n",
    "volume = (1/3) * 3.14159 * (radius ** 2) * height\n",
    "surface_area = 3.14159 * radius * (radius + slant_height)\n",
    "print(f\"Volume of the cone: {volume}\")\n",
    "print(f\"Surface area of the cone: {surface_area}\")"
   ]
  },
  {
   "cell_type": "code",
   "execution_count": 11,
   "id": "de2168a5-c5bc-4be6-9090-816d46c327d3",
   "metadata": {},
   "outputs": [
    {
     "name": "stdin",
     "output_type": "stream",
     "text": [
      "Enter the radius of the sphere:  6\n"
     ]
    },
    {
     "name": "stdout",
     "output_type": "stream",
     "text": [
      "Volume of the sphere: 904.7779199999999\n",
      "Surface area of the sphere: 452.38896\n"
     ]
    }
   ],
   "source": [
    "radius = float(input(\"Enter the radius of the sphere: \"))\n",
    "volume = (4/3) * 3.14159 * (radius ** 3)\n",
    "surface_area = 4 * 3.14159 * (radius ** 2)\n",
    "print(f\"Volume of the sphere: {volume}\")\n",
    "print(f\"Surface area of the sphere: {surface_area}\")"
   ]
  },
  {
   "cell_type": "code",
   "execution_count": 13,
   "id": "1305fc53-96aa-4fb6-b34d-c8c5d3e1f135",
   "metadata": {},
   "outputs": [
    {
     "name": "stdin",
     "output_type": "stream",
     "text": [
      "Enter the radius of the circle:  23\n",
      "Enter the length of the rectangle:  12\n",
      "Enter the width of the rectangle:  34\n",
      "Enter the first side of the triangle:  56\n",
      "Enter the second side of the triangle:  45\n",
      "Enter the third side of the triangle:  23\n"
     ]
    },
    {
     "name": "stdout",
     "output_type": "stream",
     "text": [
      "Perimeter of the circle: 144.51314\n",
      "Perimeter of the rectangle: 92.0\n",
      "Perimeter of the triangle: 124.0\n"
     ]
    }
   ],
   "source": [
    "# Circle\n",
    "radius = float(input(\"Enter the radius of the circle: \"))\n",
    "circle_perimeter = 2 * 3.14159 * radius\n",
    "\n",
    "# Rectangle\n",
    "length = float(input(\"Enter the length of the rectangle: \"))\n",
    "width = float(input(\"Enter the width of the rectangle: \"))\n",
    "rectangle_perimeter = 2 * (length + width)\n",
    "\n",
    "# Triangle\n",
    "side1 = float(input(\"Enter the first side of the triangle: \"))\n",
    "side2 = float(input(\"Enter the second side of the triangle: \"))\n",
    "side3 = float(input(\"Enter the third side of the triangle: \"))\n",
    "triangle_perimeter = side1 + side2 + side3\n",
    "\n",
    "print(f\"Perimeter of the circle: {circle_perimeter}\")\n",
    "print(f\"Perimeter of the rectangle: {rectangle_perimeter}\")\n",
    "print(f\"Perimeter of the triangle: {triangle_perimeter}\")"
   ]
  },
  {
   "cell_type": "code",
   "execution_count": 15,
   "id": "9ccaced1-90ac-401f-8413-d1045d1d3df2",
   "metadata": {},
   "outputs": [
    {
     "name": "stdin",
     "output_type": "stream",
     "text": [
      "Enter the principal amount:  12\n",
      "Enter the rate of interest (per annum):  45\n",
      "Enter the time (in years):  76\n"
     ]
    },
    {
     "name": "stdout",
     "output_type": "stream",
     "text": [
      "Simple Interest: 410.4\n"
     ]
    }
   ],
   "source": [
    "principal = float(input(\"Enter the principal amount: \"))\n",
    "rate = float(input(\"Enter the rate of interest (per annum): \"))\n",
    "time = float(input(\"Enter the time (in years): \"))\n",
    "simple_interest = (principal * rate * time) / 100\n",
    "print(f\"Simple Interest: {simple_interest}\")"
   ]
  },
  {
   "cell_type": "code",
   "execution_count": 17,
   "id": "954242f2-abe3-4202-8fb6-4ec20d872cff",
   "metadata": {},
   "outputs": [
    {
     "name": "stdin",
     "output_type": "stream",
     "text": [
      "Enter temperature in Fahrenheit:  23\n"
     ]
    },
    {
     "name": "stdout",
     "output_type": "stream",
     "text": [
      "Temperature in Celsius: -5.0\n"
     ]
    }
   ],
   "source": [
    "fahrenheit = float(input(\"Enter temperature in Fahrenheit: \"))\n",
    "celsius = (fahrenheit - 32) * 5/9\n",
    "print(f\"Temperature in Celsius: {celsius}\")\n"
   ]
  },
  {
   "cell_type": "code",
   "execution_count": 19,
   "id": "f727bc94-90b8-406d-99b4-d7170a713507",
   "metadata": {},
   "outputs": [
    {
     "name": "stdin",
     "output_type": "stream",
     "text": [
      "Enter the first number:  1\n",
      "Enter the second number:  2\n"
     ]
    },
    {
     "name": "stdout",
     "output_type": "stream",
     "text": [
      "After swapping: x = 2.0, y = 1.0\n"
     ]
    }
   ],
   "source": [
    "x = float(input(\"Enter the first number: \"))\n",
    "y = float(input(\"Enter the second number: \"))\n",
    "# Swapping\n",
    "temp = x\n",
    "x = y\n",
    "y = temp\n",
    "print(f\"After swapping: x = {x}, y = {y}\")"
   ]
  },
  {
   "cell_type": "code",
   "execution_count": 21,
   "id": "475d6540-b639-4edb-84ed-f70e2ae7ff5b",
   "metadata": {},
   "outputs": [
    {
     "name": "stdin",
     "output_type": "stream",
     "text": [
      "Enter the first number:  2\n",
      "Enter the second number:  3\n"
     ]
    },
    {
     "name": "stdout",
     "output_type": "stream",
     "text": [
      "After swapping: x = 3.0, y = 2.0\n"
     ]
    }
   ],
   "source": [
    "x = float(input(\"Enter the first number: \"))\n",
    "y = float(input(\"Enter the second number: \"))\n",
    "x, y = y, x\n",
    "print(f\"After swapping: x = {x}, y = {y}\")"
   ]
  },
  {
   "cell_type": "code",
   "execution_count": null,
   "id": "7b93730a-df6a-45bc-afa3-4650f4443413",
   "metadata": {},
   "outputs": [],
   "source": []
  }
 ],
 "metadata": {
  "kernelspec": {
   "display_name": "Python [conda env:base] *",
   "language": "python",
   "name": "conda-base-py"
  },
  "language_info": {
   "codemirror_mode": {
    "name": "ipython",
    "version": 3
   },
   "file_extension": ".py",
   "mimetype": "text/x-python",
   "name": "python",
   "nbconvert_exporter": "python",
   "pygments_lexer": "ipython3",
   "version": "3.12.7"
  }
 },
 "nbformat": 4,
 "nbformat_minor": 5
}
